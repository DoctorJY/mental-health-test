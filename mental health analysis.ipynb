{
 "cells": [
  {
   "cell_type": "code",
   "execution_count": 31,
   "metadata": {},
   "outputs": [],
   "source": [
    "import findspark\n",
    "findspark.init('/home/ubuntu/spark-2.1.1-bin-hadoop2.7')\n",
    "import pyspark\n",
    "from pyspark.sql import *\n",
    "spark = SparkSession.builder.appName('logistic_regression_adv').getOrCreate()\n",
    "from pyspark.ml.classification import LogisticRegression"
   ]
  },
  {
   "cell_type": "code",
   "execution_count": 92,
   "metadata": {},
   "outputs": [
    {
     "name": "stdout",
     "output_type": "stream",
     "text": [
      "root\n",
      " |-- Timestamp: string (nullable = true)\n",
      " |-- Age: long (nullable = true)\n",
      " |-- Gender: string (nullable = true)\n",
      " |-- Country: string (nullable = true)\n",
      " |-- state: string (nullable = true)\n",
      " |-- self_employed: string (nullable = true)\n",
      " |-- family_history: string (nullable = true)\n",
      " |-- treatment: string (nullable = true)\n",
      " |-- work_interfere: string (nullable = true)\n",
      " |-- no_employees: string (nullable = true)\n",
      " |-- remote_work: string (nullable = true)\n",
      " |-- tech_company: string (nullable = true)\n",
      " |-- benefits: string (nullable = true)\n",
      " |-- care_options: string (nullable = true)\n",
      " |-- wellness_program: string (nullable = true)\n",
      " |-- seek_help: string (nullable = true)\n",
      " |-- anonymity: string (nullable = true)\n",
      " |-- leave: string (nullable = true)\n",
      " |-- mental_health_consequence: string (nullable = true)\n",
      " |-- phys_health_consequence: string (nullable = true)\n",
      " |-- coworkers: string (nullable = true)\n",
      " |-- supervisor: string (nullable = true)\n",
      " |-- mental_health_interview: string (nullable = true)\n",
      " |-- phys_health_interview: string (nullable = true)\n",
      " |-- mental_vs_physical: string (nullable = true)\n",
      " |-- obs_consequence: string (nullable = true)\n",
      " |-- comments: string (nullable = true)\n",
      "\n",
      "['Timestamp', 'Age', 'Gender', 'Country', 'state', 'self_employed', 'family_history', 'treatment', 'work_interfere', 'no_employees', 'remote_work', 'tech_company', 'benefits', 'care_options', 'wellness_program', 'seek_help', 'anonymity', 'leave', 'mental_health_consequence', 'phys_health_consequence', 'coworkers', 'supervisor', 'mental_health_interview', 'phys_health_interview', 'mental_vs_physical', 'obs_consequence', 'comments']\n"
     ]
    }
   ],
   "source": [
    "df = spark.read.csv('survey.csv',header=True,inferSchema=True)\n",
    "df.printSchema()\n",
    "print(df.columns)"
   ]
  },
  {
   "cell_type": "code",
   "execution_count": 98,
   "metadata": {
    "scrolled": false
   },
   "outputs": [
    {
     "name": "stdout",
     "output_type": "stream",
     "text": [
      "+---------------+---+------+--------------+-----+-------------+--------------+---------+--------------+--------------+-----------+------------+----------+------------+----------------+----------+----------+------------------+-------------------------+-----------------------+------------+------------+-----------------------+---------------------+------------------+---------------+--------------------+\n",
      "|      Timestamp|Age|Gender|       Country|state|self_employed|family_history|treatment|work_interfere|  no_employees|remote_work|tech_company|  benefits|care_options|wellness_program| seek_help| anonymity|             leave|mental_health_consequence|phys_health_consequence|   coworkers|  supervisor|mental_health_interview|phys_health_interview|mental_vs_physical|obs_consequence|            comments|\n",
      "+---------------+---+------+--------------+-----+-------------+--------------+---------+--------------+--------------+-----------+------------+----------+------------+----------------+----------+----------+------------------+-------------------------+-----------------------+------------+------------+-----------------------+---------------------+------------------+---------------+--------------------+\n",
      "|2014/8/27 11:29| 37|Female| United States|   IL|           NA|            No|      Yes|         Often|       6��25��|         No|         Yes|       Yes|    Not sure|              No|       Yes|       Yes|     Somewhat easy|                       No|                     No|Some of them|         Yes|                     No|                Maybe|               Yes|             No|                  NA|\n",
      "|2014/8/27 11:29| 44|     M| United States|   IN|           NA|            No|       No|        Rarely|More than 1000|         No|          No|Don't know|          No|      Don't know|Don't know|Don't know|        Don't know|                    Maybe|                     No|          No|          No|                     No|                   No|        Don't know|             No|                  NA|\n",
      "|2014/8/27 11:29| 32|  Male|        Canada|   NA|           NA|            No|       No|        Rarely|       6��25��|         No|         Yes|        No|          No|              No|        No|Don't know|Somewhat difficult|                       No|                     No|         Yes|         Yes|                    Yes|                  Yes|                No|             No|                  NA|\n",
      "|2014/8/27 11:29| 31|  Male|United Kingdom|   NA|           NA|           Yes|      Yes|         Often|        26-100|         No|         Yes|        No|         Yes|              No|        No|        No|Somewhat difficult|                      Yes|                    Yes|Some of them|          No|                  Maybe|                Maybe|                No|            Yes|                  NA|\n",
      "|2014/8/27 11:30| 31|  Male| United States|   TX|           NA|            No|       No|         Never|       100-500|        Yes|         Yes|       Yes|          No|      Don't know|Don't know|Don't know|        Don't know|                       No|                     No|Some of them|         Yes|                    Yes|                  Yes|        Don't know|             No|                  NA|\n",
      "|2014/8/27 11:31| 33|  Male| United States|   TN|           NA|           Yes|       No|     Sometimes|       6��25��|         No|         Yes|       Yes|    Not sure|              No|Don't know|Don't know|        Don't know|                       No|                     No|         Yes|         Yes|                     No|                Maybe|        Don't know|             No|                  NA|\n",
      "|2014/8/27 11:31| 35|Female| United States|   MI|           NA|           Yes|      Yes|     Sometimes|        1��5��|        Yes|         Yes|        No|          No|              No|        No|        No|Somewhat difficult|                    Maybe|                  Maybe|Some of them|          No|                     No|                   No|        Don't know|             No|                  NA|\n",
      "|2014/8/27 11:32| 39|     M|        Canada|   NA|           NA|            No|       No|         Never|        1��5��|        Yes|         Yes|        No|         Yes|              No|        No|       Yes|        Don't know|                       No|                     No|          No|          No|                     No|                   No|                No|             No|                  NA|\n",
      "|2014/8/27 11:32| 42|Female| United States|   IL|           NA|           Yes|      Yes|     Sometimes|       100-500|         No|         Yes|       Yes|         Yes|              No|        No|        No|    Very difficult|                    Maybe|                     No|         Yes|         Yes|                     No|                Maybe|                No|             No|                  NA|\n",
      "|2014/8/27 11:32| 23|  Male|        Canada|   NA|           NA|            No|       No|         Never|        26-100|         No|         Yes|Don't know|          No|      Don't know|Don't know|Don't know|        Don't know|                       No|                     No|         Yes|         Yes|                  Maybe|                Maybe|               Yes|             No|                  NA|\n",
      "|2014/8/27 11:32| 31|  Male| United States|   OH|           NA|            No|      Yes|     Sometimes|       6��25��|        Yes|         Yes|Don't know|          No|              No|        No|Don't know|        Don't know|                       No|                     No|Some of them|         Yes|                     No|                   No|        Don't know|             No|                  NA|\n",
      "|2014/8/27 11:32| 29|  male|      Bulgaria|   NA|           NA|            No|       No|         Never|       100-500|        Yes|         Yes|Don't know|    Not sure|              No|        No|Don't know|        Don't know|                       No|                     No|         Yes|         Yes|                    Yes|                  Yes|        Don't know|             No|                  NA|\n",
      "|2014/8/27 11:33| 42|female| United States|   CA|           NA|           Yes|      Yes|     Sometimes|        26-100|         No|          No|       Yes|         Yes|              No|        No|Don't know|Somewhat difficult|                      Yes|                    Yes|         Yes|         Yes|                  Maybe|                Maybe|                No|            Yes|                  NA|\n",
      "|2014/8/27 11:33| 36|  Male| United States|   CT|           NA|           Yes|       No|         Never|      500-1000|         No|         Yes|Don't know|    Not sure|              No|Don't know|Don't know|        Don't know|                       No|                     No|         Yes|         Yes|                     No|                   No|        Don't know|             No|I'm not on my com...|\n",
      "|2014/8/27 11:33| 27|  Male|        Canada|   NA|           NA|            No|       No|         Never|       6��25��|         No|         Yes|Don't know|    Not sure|      Don't know|Don't know|Don't know|     Somewhat easy|                       No|                     No|Some of them|Some of them|                  Maybe|                  Yes|               Yes|             No|                  NA|\n",
      "|2014/8/27 11:34| 29|female| United States|   IL|           NA|           Yes|      Yes|        Rarely|        26-100|         No|         Yes|       Yes|    Not sure|              No|        No|Don't know|     Somewhat easy|                       No|                     No|         Yes|Some of them|                  Maybe|                Maybe|        Don't know|             No|I have chronic lo...|\n",
      "|2014/8/27 11:34| 23|  Male|United Kingdom|   NA|           NA|            No|      Yes|     Sometimes|        26-100|        Yes|         Yes|Don't know|          No|      Don't know|Don't know|Don't know|         Very easy|                    Maybe|                     No|Some of them|          No|                  Maybe|                Maybe|                No|             No|My company does p...|\n",
      "|2014/8/27 11:34| 32|  Male| United States|   TN|           NA|            No|      Yes|     Sometimes|       6��25��|         No|         Yes|       Yes|         Yes|              No|Don't know|Don't know|        Don't know|                    Maybe|                     No|Some of them|         Yes|                     No|                   No|                No|             No|                  NA|\n",
      "|2014/8/27 11:34| 46|  male| United States|   MD|          Yes|           Yes|       No|     Sometimes|        1��5��|        Yes|         Yes|       Yes|    Not sure|             Yes|Don't know|       Yes|         Very easy|                       No|                     No|         Yes|         Yes|                     No|                  Yes|               Yes|            Yes|                  NA|\n",
      "|2014/8/27 11:35| 36|  Male|        France|   NA|          Yes|           Yes|       No|            NA|       6��25��|        Yes|         Yes|        No|          No|             Yes|        No|       Yes|     Somewhat easy|                       No|                     No|Some of them|Some of them|                  Maybe|                Maybe|        Don't know|             No|                  NA|\n",
      "+---------------+---+------+--------------+-----+-------------+--------------+---------+--------------+--------------+-----------+------------+----------+------------+----------------+----------+----------+------------------+-------------------------+-----------------------+------------+------------+-----------------------+---------------------+------------------+---------------+--------------------+\n",
      "only showing top 20 rows\n",
      "\n"
     ]
    }
   ],
   "source": [
    "df.show()"
   ]
  },
  {
   "cell_type": "code",
   "execution_count": 99,
   "metadata": {},
   "outputs": [
    {
     "name": "stdout",
     "output_type": "stream",
     "text": [
      "+------------------------+---+---+\n",
      "|treatment_family_history| No|Yes|\n",
      "+------------------------+---+---+\n",
      "|                      No|495|127|\n",
      "|                     Yes|272|365|\n",
      "+------------------------+---+---+\n",
      "\n"
     ]
    }
   ],
   "source": [
    "df.crosstab('treatment', 'family_history').show()"
   ]
  },
  {
   "cell_type": "code",
   "execution_count": 95,
   "metadata": {},
   "outputs": [
    {
     "name": "stdout",
     "output_type": "stream",
     "text": [
      "+-----------------------+---+---+---+\n",
      "|treatment_self_employed| NA| No|Yes|\n",
      "+-----------------------+---+---+---+\n",
      "|                     No|  9|545| 68|\n",
      "|                    Yes|  9|550| 78|\n",
      "+-----------------------+---+---+---+\n",
      "\n"
     ]
    }
   ],
   "source": [
    "df.crosstab('treatment', 'self_employed').show()"
   ]
  },
  {
   "cell_type": "code",
   "execution_count": 96,
   "metadata": {},
   "outputs": [
    {
     "name": "stdout",
     "output_type": "stream",
     "text": [
      "+-------+--------------------+\n",
      "|summary|                 Age|\n",
      "+-------+--------------------+\n",
      "|  count|                1259|\n",
      "|   mean| 7.942814831135821E7|\n",
      "| stddev|2.8182994429819684E9|\n",
      "|    min|               -1726|\n",
      "|    max|         99999999999|\n",
      "+-------+--------------------+\n",
      "\n"
     ]
    }
   ],
   "source": [
    "df.describe(\"Age\").show()"
   ]
  },
  {
   "cell_type": "code",
   "execution_count": 97,
   "metadata": {},
   "outputs": [
    {
     "name": "stdout",
     "output_type": "stream",
     "text": [
      "+------------------------+---+-----+-----+------+---------+\n",
      "|treatment_work_interfere| NA|Never|Often|Rarely|Sometimes|\n",
      "+------------------------+---+-----+-----+------+---------+\n",
      "|                      No|260|  183|   21|    51|      107|\n",
      "|                     Yes|  4|   30|  123|   122|      358|\n",
      "+------------------------+---+-----+-----+------+---------+\n",
      "\n"
     ]
    }
   ],
   "source": [
    "df.crosstab('treatment', 'work_interfere').show()"
   ]
  },
  {
   "cell_type": "code",
   "execution_count": 65,
   "metadata": {},
   "outputs": [
    {
     "name": "stdout",
     "output_type": "stream",
     "text": [
      "+---+------+-------------+--------------+---------+--------------+----------+------------+----------+\n",
      "|Age|Gender|self_employed|family_history|treatment|work_interfere|  benefits|care_options| seek_help|\n",
      "+---+------+-------------+--------------+---------+--------------+----------+------------+----------+\n",
      "| 37|Female|           NA|            No|      Yes|         Often|       Yes|    Not sure|       Yes|\n",
      "| 44|     M|           NA|            No|       No|        Rarely|Don't know|          No|Don't know|\n",
      "| 32|  Male|           NA|            No|       No|        Rarely|        No|          No|        No|\n",
      "| 31|  Male|           NA|           Yes|      Yes|         Often|        No|         Yes|        No|\n",
      "| 31|  Male|           NA|            No|       No|         Never|       Yes|          No|Don't know|\n",
      "| 33|  Male|           NA|           Yes|       No|     Sometimes|       Yes|    Not sure|Don't know|\n",
      "| 35|Female|           NA|           Yes|      Yes|     Sometimes|        No|          No|        No|\n",
      "| 39|     M|           NA|            No|       No|         Never|        No|         Yes|        No|\n",
      "| 42|Female|           NA|           Yes|      Yes|     Sometimes|       Yes|         Yes|        No|\n",
      "| 23|  Male|           NA|            No|       No|         Never|Don't know|          No|Don't know|\n",
      "| 31|  Male|           NA|            No|      Yes|     Sometimes|Don't know|          No|        No|\n",
      "| 29|  male|           NA|            No|       No|         Never|Don't know|    Not sure|        No|\n",
      "| 42|female|           NA|           Yes|      Yes|     Sometimes|       Yes|         Yes|        No|\n",
      "| 36|  Male|           NA|           Yes|       No|         Never|Don't know|    Not sure|Don't know|\n",
      "| 27|  Male|           NA|            No|       No|         Never|Don't know|    Not sure|Don't know|\n",
      "| 29|female|           NA|           Yes|      Yes|        Rarely|       Yes|    Not sure|        No|\n",
      "| 23|  Male|           NA|            No|      Yes|     Sometimes|Don't know|          No|Don't know|\n",
      "| 32|  Male|           NA|            No|      Yes|     Sometimes|       Yes|         Yes|Don't know|\n",
      "| 46|  male|          Yes|           Yes|       No|     Sometimes|       Yes|    Not sure|Don't know|\n",
      "| 36|  Male|          Yes|           Yes|       No|            NA|        No|          No|        No|\n",
      "+---+------+-------------+--------------+---------+--------------+----------+------------+----------+\n",
      "only showing top 20 rows\n",
      "\n",
      "Total data points: 1259\n"
     ]
    }
   ],
   "source": [
    "df.na.drop().show()\n",
    "print(\"Total data points:\", df.count())"
   ]
  },
  {
   "cell_type": "code",
   "execution_count": 66,
   "metadata": {},
   "outputs": [
    {
     "name": "stdout",
     "output_type": "stream",
     "text": [
      "+---+------+-------------+--------------+---------+--------------+----------+------------+----------+\n",
      "|Age|Gender|self_employed|family_history|treatment|work_interfere|  benefits|care_options| seek_help|\n",
      "+---+------+-------------+--------------+---------+--------------+----------+------------+----------+\n",
      "| 37|Female|           NA|            No|      Yes|         Often|       Yes|    Not sure|       Yes|\n",
      "| 44|     M|           NA|            No|       No|        Rarely|Don't know|          No|Don't know|\n",
      "| 32|  Male|           NA|            No|       No|        Rarely|        No|          No|        No|\n",
      "| 31|  Male|           NA|           Yes|      Yes|         Often|        No|         Yes|        No|\n",
      "| 31|  Male|           NA|            No|       No|         Never|       Yes|          No|Don't know|\n",
      "| 33|  Male|           NA|           Yes|       No|     Sometimes|       Yes|    Not sure|Don't know|\n",
      "| 35|Female|           NA|           Yes|      Yes|     Sometimes|        No|          No|        No|\n",
      "| 39|     M|           NA|            No|       No|         Never|        No|         Yes|        No|\n",
      "| 42|Female|           NA|           Yes|      Yes|     Sometimes|       Yes|         Yes|        No|\n",
      "| 23|  Male|           NA|            No|       No|         Never|Don't know|          No|Don't know|\n",
      "| 31|  Male|           NA|            No|      Yes|     Sometimes|Don't know|          No|        No|\n",
      "| 29|  male|           NA|            No|       No|         Never|Don't know|    Not sure|        No|\n",
      "| 42|female|           NA|           Yes|      Yes|     Sometimes|       Yes|         Yes|        No|\n",
      "| 36|  Male|           NA|           Yes|       No|         Never|Don't know|    Not sure|Don't know|\n",
      "| 27|  Male|           NA|            No|       No|         Never|Don't know|    Not sure|Don't know|\n",
      "| 29|female|           NA|           Yes|      Yes|        Rarely|       Yes|    Not sure|        No|\n",
      "| 23|  Male|           NA|            No|      Yes|     Sometimes|Don't know|          No|Don't know|\n",
      "| 32|  Male|           NA|            No|      Yes|     Sometimes|       Yes|         Yes|Don't know|\n",
      "| 46|  male|          Yes|           Yes|       No|     Sometimes|       Yes|    Not sure|Don't know|\n",
      "| 36|  Male|          Yes|           Yes|       No|            NA|        No|          No|        No|\n",
      "+---+------+-------------+--------------+---------+--------------+----------+------------+----------+\n",
      "only showing top 20 rows\n",
      "\n",
      "Total data points: 1259\n"
     ]
    }
   ],
   "source": [
    "dropped_df = df.na.drop()\n",
    "dropped_df.show()\n",
    "print(\"Total data points:\", dropped_df.count())"
   ]
  },
  {
   "cell_type": "code",
   "execution_count": 67,
   "metadata": {},
   "outputs": [
    {
     "name": "stdout",
     "output_type": "stream",
     "text": [
      "+---+------+-------------+--------------+---------+--------------+----------+------------+----------+\n",
      "|Age|Gender|self_employed|family_history|treatment|work_interfere|  benefits|care_options| seek_help|\n",
      "+---+------+-------------+--------------+---------+--------------+----------+------------+----------+\n",
      "| 37|Female|           NA|            No|      Yes|         Often|       Yes|    Not sure|       Yes|\n",
      "| 44|     M|           NA|            No|       No|        Rarely|Don't know|          No|Don't know|\n",
      "| 32|  Male|           NA|            No|       No|        Rarely|        No|          No|        No|\n",
      "| 31|  Male|           NA|           Yes|      Yes|         Often|        No|         Yes|        No|\n",
      "| 31|  Male|           NA|            No|       No|         Never|       Yes|          No|Don't know|\n",
      "| 33|  Male|           NA|           Yes|       No|     Sometimes|       Yes|    Not sure|Don't know|\n",
      "| 35|Female|           NA|           Yes|      Yes|     Sometimes|        No|          No|        No|\n",
      "| 39|     M|           NA|            No|       No|         Never|        No|         Yes|        No|\n",
      "| 42|Female|           NA|           Yes|      Yes|     Sometimes|       Yes|         Yes|        No|\n",
      "| 23|  Male|           NA|            No|       No|         Never|Don't know|          No|Don't know|\n",
      "| 31|  Male|           NA|            No|      Yes|     Sometimes|Don't know|          No|        No|\n",
      "| 29|  male|           NA|            No|       No|         Never|Don't know|    Not sure|        No|\n",
      "| 42|female|           NA|           Yes|      Yes|     Sometimes|       Yes|         Yes|        No|\n",
      "| 36|  Male|           NA|           Yes|       No|         Never|Don't know|    Not sure|Don't know|\n",
      "| 27|  Male|           NA|            No|       No|         Never|Don't know|    Not sure|Don't know|\n",
      "| 29|female|           NA|           Yes|      Yes|        Rarely|       Yes|    Not sure|        No|\n",
      "| 23|  Male|           NA|            No|      Yes|     Sometimes|Don't know|          No|Don't know|\n",
      "| 32|  Male|           NA|            No|      Yes|     Sometimes|       Yes|         Yes|Don't know|\n",
      "| 46|  male|          Yes|           Yes|       No|     Sometimes|       Yes|    Not sure|Don't know|\n",
      "| 36|  Male|          Yes|           Yes|       No|            NA|        No|          No|        No|\n",
      "+---+------+-------------+--------------+---------+--------------+----------+------------+----------+\n",
      "only showing top 20 rows\n",
      "\n",
      "Total data points: 1259\n"
     ]
    }
   ],
   "source": [
    "missing_field_df = df.na.drop(subset=\"treatment\")\n",
    "missing_field_df.show()\n",
    "print(\"Total data points:\", missing_field_df.count())"
   ]
  },
  {
   "cell_type": "code",
   "execution_count": 42,
   "metadata": {},
   "outputs": [
    {
     "name": "stdout",
     "output_type": "stream",
     "text": [
      "+-------+--------------------+------------------+-------------+--------------+---------+--------------+\n",
      "|summary|                 Age|            Gender|self_employed|family_history|treatment|work_interfere|\n",
      "+-------+--------------------+------------------+-------------+--------------+---------+--------------+\n",
      "|  count|                1259|              1259|         1259|          1259|     1259|          1259|\n",
      "|   mean| 7.942814831135821E7|              null|         null|          null|     null|          null|\n",
      "| stddev|2.8182994429819684E9|              null|         null|          null|     null|          null|\n",
      "|    min|               -1726|A little about you|           NA|            No|       No|            NA|\n",
      "|    max|         99999999999|             woman|          Yes|           Yes|      Yes|     Sometimes|\n",
      "+-------+--------------------+------------------+-------------+--------------+---------+--------------+\n",
      "\n"
     ]
    }
   ],
   "source": [
    "df.select('Age','Gender','self_employed','family_history','treatment','work_interfere').describe().show()"
   ]
  },
  {
   "cell_type": "code",
   "execution_count": 43,
   "metadata": {},
   "outputs": [
    {
     "name": "stdout",
     "output_type": "stream",
     "text": [
      "+---+\n",
      "|Age|\n",
      "+---+\n",
      "| 37|\n",
      "| 44|\n",
      "| 32|\n",
      "| 31|\n",
      "| 31|\n",
      "| 33|\n",
      "| 35|\n",
      "| 39|\n",
      "| 42|\n",
      "| 23|\n",
      "| 31|\n",
      "| 29|\n",
      "| 42|\n",
      "| 36|\n",
      "| 27|\n",
      "| 29|\n",
      "| 23|\n",
      "| 32|\n",
      "| 46|\n",
      "| 36|\n",
      "+---+\n",
      "only showing top 20 rows\n",
      "\n"
     ]
    }
   ],
   "source": [
    "age_col = df.select('Age')\n",
    "age_col.show()"
   ]
  },
  {
   "cell_type": "code",
   "execution_count": 68,
   "metadata": {},
   "outputs": [
    {
     "name": "stdout",
     "output_type": "stream",
     "text": [
      "+---+------+-------------+--------------+---------+--------------+----------+------------+----------+\n",
      "|Age|Gender|self_employed|family_history|treatment|work_interfere|  benefits|care_options| seek_help|\n",
      "+---+------+-------------+--------------+---------+--------------+----------+------------+----------+\n",
      "| 37|Female|           NA|            No|      Yes|         Often|       Yes|    Not sure|       Yes|\n",
      "| 44|     M|           NA|            No|       No|        Rarely|Don't know|          No|Don't know|\n",
      "| 32|  Male|           NA|            No|       No|        Rarely|        No|          No|        No|\n",
      "| 31|  Male|           NA|           Yes|      Yes|         Often|        No|         Yes|        No|\n",
      "| 31|  Male|           NA|            No|       No|         Never|       Yes|          No|Don't know|\n",
      "| 33|  Male|           NA|           Yes|       No|     Sometimes|       Yes|    Not sure|Don't know|\n",
      "| 35|Female|           NA|           Yes|      Yes|     Sometimes|        No|          No|        No|\n",
      "| 39|     M|           NA|            No|       No|         Never|        No|         Yes|        No|\n",
      "| 42|Female|           NA|           Yes|      Yes|     Sometimes|       Yes|         Yes|        No|\n",
      "| 23|  Male|           NA|            No|       No|         Never|Don't know|          No|Don't know|\n",
      "| 31|  Male|           NA|            No|      Yes|     Sometimes|Don't know|          No|        No|\n",
      "| 29|  male|           NA|            No|       No|         Never|Don't know|    Not sure|        No|\n",
      "| 42|female|           NA|           Yes|      Yes|     Sometimes|       Yes|         Yes|        No|\n",
      "| 36|  Male|           NA|           Yes|       No|         Never|Don't know|    Not sure|Don't know|\n",
      "| 27|  Male|           NA|            No|       No|         Never|Don't know|    Not sure|Don't know|\n",
      "| 29|female|           NA|           Yes|      Yes|        Rarely|       Yes|    Not sure|        No|\n",
      "| 23|  Male|           NA|            No|      Yes|     Sometimes|Don't know|          No|Don't know|\n",
      "| 32|  Male|           NA|            No|      Yes|     Sometimes|       Yes|         Yes|Don't know|\n",
      "| 46|  male|          Yes|           Yes|       No|     Sometimes|       Yes|    Not sure|Don't know|\n",
      "| 36|  Male|          Yes|           Yes|       No|            NA|        No|          No|        No|\n",
      "+---+------+-------------+--------------+---------+--------------+----------+------------+----------+\n",
      "only showing top 20 rows\n",
      "\n"
     ]
    }
   ],
   "source": [
    "df.filter(\"Age > 20\").show()"
   ]
  },
  {
   "cell_type": "code",
   "execution_count": 45,
   "metadata": {},
   "outputs": [
    {
     "name": "stdout",
     "output_type": "stream",
     "text": [
      "+---------+---+\n",
      "|treatment|Age|\n",
      "+---------+---+\n",
      "|      Yes| 37|\n",
      "|       No| 44|\n",
      "|       No| 32|\n",
      "|      Yes| 31|\n",
      "|       No| 31|\n",
      "|       No| 33|\n",
      "|      Yes| 35|\n",
      "|       No| 39|\n",
      "|      Yes| 42|\n",
      "|      Yes| 31|\n",
      "|       No| 29|\n",
      "|      Yes| 42|\n",
      "|       No| 36|\n",
      "|       No| 27|\n",
      "|      Yes| 29|\n",
      "|      Yes| 32|\n",
      "|       No| 46|\n",
      "|       No| 36|\n",
      "|      Yes| 29|\n",
      "|       No| 31|\n",
      "+---------+---+\n",
      "only showing top 20 rows\n",
      "\n"
     ]
    }
   ],
   "source": [
    "df.filter(\"Age > 25\").select('treatment','Age').show()"
   ]
  },
  {
   "cell_type": "code",
   "execution_count": 69,
   "metadata": {},
   "outputs": [
    {
     "name": "stdout",
     "output_type": "stream",
     "text": [
      "+---+--------------+---------+\n",
      "|Age|family_history|treatment|\n",
      "+---+--------------+---------+\n",
      "| 31|           Yes|      Yes|\n",
      "| 33|           Yes|       No|\n",
      "| 35|           Yes|      Yes|\n",
      "| 42|           Yes|      Yes|\n",
      "| 42|           Yes|      Yes|\n",
      "| 36|           Yes|       No|\n",
      "| 29|           Yes|      Yes|\n",
      "| 46|           Yes|       No|\n",
      "| 36|           Yes|       No|\n",
      "| 29|           Yes|      Yes|\n",
      "| 33|           Yes|      Yes|\n",
      "| 35|           Yes|      Yes|\n",
      "| 35|           Yes|      Yes|\n",
      "| 31|           Yes|       No|\n",
      "| 30|           Yes|      Yes|\n",
      "| 42|           Yes|      Yes|\n",
      "| 27|           Yes|      Yes|\n",
      "| 38|           Yes|      Yes|\n",
      "| 30|           Yes|      Yes|\n",
      "| 27|           Yes|      Yes|\n",
      "+---+--------------+---------+\n",
      "only showing top 20 rows\n",
      "\n"
     ]
    }
   ],
   "source": [
    "df.filter(\"Age > 25 AND family_history == 'Yes'\").select('Age','family_history','treatment').show()"
   ]
  },
  {
   "cell_type": "code",
   "execution_count": 47,
   "metadata": {},
   "outputs": [
    {
     "data": {
      "text/html": [
       "<div>\n",
       "<style scoped>\n",
       "    .dataframe tbody tr th:only-of-type {\n",
       "        vertical-align: middle;\n",
       "    }\n",
       "\n",
       "    .dataframe tbody tr th {\n",
       "        vertical-align: top;\n",
       "    }\n",
       "\n",
       "    .dataframe thead th {\n",
       "        text-align: right;\n",
       "    }\n",
       "</style>\n",
       "<table border=\"1\" class=\"dataframe\">\n",
       "  <thead>\n",
       "    <tr style=\"text-align: right;\">\n",
       "      <th></th>\n",
       "      <th>Timestamp</th>\n",
       "      <th>Age</th>\n",
       "      <th>Gender</th>\n",
       "      <th>Country</th>\n",
       "      <th>state</th>\n",
       "      <th>self_employed</th>\n",
       "      <th>family_history</th>\n",
       "      <th>treatment</th>\n",
       "      <th>work_interfere</th>\n",
       "      <th>no_employees</th>\n",
       "      <th>...</th>\n",
       "      <th>leave</th>\n",
       "      <th>mental_health_consequence</th>\n",
       "      <th>phys_health_consequence</th>\n",
       "      <th>coworkers</th>\n",
       "      <th>supervisor</th>\n",
       "      <th>mental_health_interview</th>\n",
       "      <th>phys_health_interview</th>\n",
       "      <th>mental_vs_physical</th>\n",
       "      <th>obs_consequence</th>\n",
       "      <th>comments</th>\n",
       "    </tr>\n",
       "  </thead>\n",
       "  <tbody>\n",
       "    <tr>\n",
       "      <th>0</th>\n",
       "      <td>2014/8/27 11:29</td>\n",
       "      <td>37</td>\n",
       "      <td>Female</td>\n",
       "      <td>United States</td>\n",
       "      <td>IL</td>\n",
       "      <td>NA</td>\n",
       "      <td>No</td>\n",
       "      <td>Yes</td>\n",
       "      <td>Often</td>\n",
       "      <td>6��25��</td>\n",
       "      <td>...</td>\n",
       "      <td>Somewhat easy</td>\n",
       "      <td>No</td>\n",
       "      <td>No</td>\n",
       "      <td>Some of them</td>\n",
       "      <td>Yes</td>\n",
       "      <td>No</td>\n",
       "      <td>Maybe</td>\n",
       "      <td>Yes</td>\n",
       "      <td>No</td>\n",
       "      <td>NA</td>\n",
       "    </tr>\n",
       "    <tr>\n",
       "      <th>1</th>\n",
       "      <td>2014/8/27 11:29</td>\n",
       "      <td>44</td>\n",
       "      <td>M</td>\n",
       "      <td>United States</td>\n",
       "      <td>IN</td>\n",
       "      <td>NA</td>\n",
       "      <td>No</td>\n",
       "      <td>No</td>\n",
       "      <td>Rarely</td>\n",
       "      <td>More than 1000</td>\n",
       "      <td>...</td>\n",
       "      <td>Don't know</td>\n",
       "      <td>Maybe</td>\n",
       "      <td>No</td>\n",
       "      <td>No</td>\n",
       "      <td>No</td>\n",
       "      <td>No</td>\n",
       "      <td>No</td>\n",
       "      <td>Don't know</td>\n",
       "      <td>No</td>\n",
       "      <td>NA</td>\n",
       "    </tr>\n",
       "    <tr>\n",
       "      <th>2</th>\n",
       "      <td>2014/8/27 11:29</td>\n",
       "      <td>32</td>\n",
       "      <td>Male</td>\n",
       "      <td>Canada</td>\n",
       "      <td>NA</td>\n",
       "      <td>NA</td>\n",
       "      <td>No</td>\n",
       "      <td>No</td>\n",
       "      <td>Rarely</td>\n",
       "      <td>6��25��</td>\n",
       "      <td>...</td>\n",
       "      <td>Somewhat difficult</td>\n",
       "      <td>No</td>\n",
       "      <td>No</td>\n",
       "      <td>Yes</td>\n",
       "      <td>Yes</td>\n",
       "      <td>Yes</td>\n",
       "      <td>Yes</td>\n",
       "      <td>No</td>\n",
       "      <td>No</td>\n",
       "      <td>NA</td>\n",
       "    </tr>\n",
       "    <tr>\n",
       "      <th>3</th>\n",
       "      <td>2014/8/27 11:29</td>\n",
       "      <td>31</td>\n",
       "      <td>Male</td>\n",
       "      <td>United Kingdom</td>\n",
       "      <td>NA</td>\n",
       "      <td>NA</td>\n",
       "      <td>Yes</td>\n",
       "      <td>Yes</td>\n",
       "      <td>Often</td>\n",
       "      <td>26-100</td>\n",
       "      <td>...</td>\n",
       "      <td>Somewhat difficult</td>\n",
       "      <td>Yes</td>\n",
       "      <td>Yes</td>\n",
       "      <td>Some of them</td>\n",
       "      <td>No</td>\n",
       "      <td>Maybe</td>\n",
       "      <td>Maybe</td>\n",
       "      <td>No</td>\n",
       "      <td>Yes</td>\n",
       "      <td>NA</td>\n",
       "    </tr>\n",
       "    <tr>\n",
       "      <th>4</th>\n",
       "      <td>2014/8/27 11:30</td>\n",
       "      <td>31</td>\n",
       "      <td>Male</td>\n",
       "      <td>United States</td>\n",
       "      <td>TX</td>\n",
       "      <td>NA</td>\n",
       "      <td>No</td>\n",
       "      <td>No</td>\n",
       "      <td>Never</td>\n",
       "      <td>100-500</td>\n",
       "      <td>...</td>\n",
       "      <td>Don't know</td>\n",
       "      <td>No</td>\n",
       "      <td>No</td>\n",
       "      <td>Some of them</td>\n",
       "      <td>Yes</td>\n",
       "      <td>Yes</td>\n",
       "      <td>Yes</td>\n",
       "      <td>Don't know</td>\n",
       "      <td>No</td>\n",
       "      <td>NA</td>\n",
       "    </tr>\n",
       "  </tbody>\n",
       "</table>\n",
       "<p>5 rows × 27 columns</p>\n",
       "</div>"
      ],
      "text/plain": [
       "         Timestamp  Age  Gender         Country state self_employed  \\\n",
       "0  2014/8/27 11:29   37  Female   United States    IL            NA   \n",
       "1  2014/8/27 11:29   44       M   United States    IN            NA   \n",
       "2  2014/8/27 11:29   32    Male          Canada    NA            NA   \n",
       "3  2014/8/27 11:29   31    Male  United Kingdom    NA            NA   \n",
       "4  2014/8/27 11:30   31    Male   United States    TX            NA   \n",
       "\n",
       "  family_history treatment work_interfere    no_employees   ...     \\\n",
       "0             No       Yes          Often         6��25��   ...      \n",
       "1             No        No         Rarely  More than 1000   ...      \n",
       "2             No        No         Rarely         6��25��   ...      \n",
       "3            Yes       Yes          Often          26-100   ...      \n",
       "4             No        No          Never         100-500   ...      \n",
       "\n",
       "                leave mental_health_consequence phys_health_consequence  \\\n",
       "0       Somewhat easy                        No                      No   \n",
       "1          Don't know                     Maybe                      No   \n",
       "2  Somewhat difficult                        No                      No   \n",
       "3  Somewhat difficult                       Yes                     Yes   \n",
       "4          Don't know                        No                      No   \n",
       "\n",
       "      coworkers supervisor mental_health_interview phys_health_interview  \\\n",
       "0  Some of them        Yes                      No                 Maybe   \n",
       "1            No         No                      No                    No   \n",
       "2           Yes        Yes                     Yes                   Yes   \n",
       "3  Some of them         No                   Maybe                 Maybe   \n",
       "4  Some of them        Yes                     Yes                   Yes   \n",
       "\n",
       "  mental_vs_physical obs_consequence comments  \n",
       "0                Yes              No       NA  \n",
       "1         Don't know              No       NA  \n",
       "2                 No              No       NA  \n",
       "3                 No             Yes       NA  \n",
       "4         Don't know              No       NA  \n",
       "\n",
       "[5 rows x 27 columns]"
      ]
     },
     "execution_count": 47,
     "metadata": {},
     "output_type": "execute_result"
    }
   ],
   "source": [
    "import pandas as pd\n",
    "pd.DataFrame(df.take(5), columns=df.columns)"
   ]
  },
  {
   "cell_type": "code",
   "execution_count": 48,
   "metadata": {},
   "outputs": [
    {
     "data": {
      "text/html": [
       "<div>\n",
       "<style scoped>\n",
       "    .dataframe tbody tr th:only-of-type {\n",
       "        vertical-align: middle;\n",
       "    }\n",
       "\n",
       "    .dataframe tbody tr th {\n",
       "        vertical-align: top;\n",
       "    }\n",
       "\n",
       "    .dataframe thead th {\n",
       "        text-align: right;\n",
       "    }\n",
       "</style>\n",
       "<table border=\"1\" class=\"dataframe\">\n",
       "  <thead>\n",
       "    <tr style=\"text-align: right;\">\n",
       "      <th></th>\n",
       "      <th>0</th>\n",
       "      <th>1</th>\n",
       "      <th>2</th>\n",
       "      <th>3</th>\n",
       "      <th>4</th>\n",
       "    </tr>\n",
       "  </thead>\n",
       "  <tbody>\n",
       "    <tr>\n",
       "      <th>Timestamp</th>\n",
       "      <td>2014/8/27 11:29</td>\n",
       "      <td>2014/8/27 11:29</td>\n",
       "      <td>2014/8/27 11:29</td>\n",
       "      <td>2014/8/27 11:29</td>\n",
       "      <td>2014/8/27 11:30</td>\n",
       "    </tr>\n",
       "    <tr>\n",
       "      <th>Age</th>\n",
       "      <td>37</td>\n",
       "      <td>44</td>\n",
       "      <td>32</td>\n",
       "      <td>31</td>\n",
       "      <td>31</td>\n",
       "    </tr>\n",
       "    <tr>\n",
       "      <th>Gender</th>\n",
       "      <td>Female</td>\n",
       "      <td>M</td>\n",
       "      <td>Male</td>\n",
       "      <td>Male</td>\n",
       "      <td>Male</td>\n",
       "    </tr>\n",
       "    <tr>\n",
       "      <th>Country</th>\n",
       "      <td>United States</td>\n",
       "      <td>United States</td>\n",
       "      <td>Canada</td>\n",
       "      <td>United Kingdom</td>\n",
       "      <td>United States</td>\n",
       "    </tr>\n",
       "    <tr>\n",
       "      <th>state</th>\n",
       "      <td>IL</td>\n",
       "      <td>IN</td>\n",
       "      <td>NA</td>\n",
       "      <td>NA</td>\n",
       "      <td>TX</td>\n",
       "    </tr>\n",
       "    <tr>\n",
       "      <th>self_employed</th>\n",
       "      <td>NA</td>\n",
       "      <td>NA</td>\n",
       "      <td>NA</td>\n",
       "      <td>NA</td>\n",
       "      <td>NA</td>\n",
       "    </tr>\n",
       "    <tr>\n",
       "      <th>family_history</th>\n",
       "      <td>No</td>\n",
       "      <td>No</td>\n",
       "      <td>No</td>\n",
       "      <td>Yes</td>\n",
       "      <td>No</td>\n",
       "    </tr>\n",
       "    <tr>\n",
       "      <th>treatment</th>\n",
       "      <td>Yes</td>\n",
       "      <td>No</td>\n",
       "      <td>No</td>\n",
       "      <td>Yes</td>\n",
       "      <td>No</td>\n",
       "    </tr>\n",
       "    <tr>\n",
       "      <th>work_interfere</th>\n",
       "      <td>Often</td>\n",
       "      <td>Rarely</td>\n",
       "      <td>Rarely</td>\n",
       "      <td>Often</td>\n",
       "      <td>Never</td>\n",
       "    </tr>\n",
       "    <tr>\n",
       "      <th>no_employees</th>\n",
       "      <td>6��25��</td>\n",
       "      <td>More than 1000</td>\n",
       "      <td>6��25��</td>\n",
       "      <td>26-100</td>\n",
       "      <td>100-500</td>\n",
       "    </tr>\n",
       "    <tr>\n",
       "      <th>remote_work</th>\n",
       "      <td>No</td>\n",
       "      <td>No</td>\n",
       "      <td>No</td>\n",
       "      <td>No</td>\n",
       "      <td>Yes</td>\n",
       "    </tr>\n",
       "    <tr>\n",
       "      <th>tech_company</th>\n",
       "      <td>Yes</td>\n",
       "      <td>No</td>\n",
       "      <td>Yes</td>\n",
       "      <td>Yes</td>\n",
       "      <td>Yes</td>\n",
       "    </tr>\n",
       "    <tr>\n",
       "      <th>benefits</th>\n",
       "      <td>Yes</td>\n",
       "      <td>Don't know</td>\n",
       "      <td>No</td>\n",
       "      <td>No</td>\n",
       "      <td>Yes</td>\n",
       "    </tr>\n",
       "    <tr>\n",
       "      <th>care_options</th>\n",
       "      <td>Not sure</td>\n",
       "      <td>No</td>\n",
       "      <td>No</td>\n",
       "      <td>Yes</td>\n",
       "      <td>No</td>\n",
       "    </tr>\n",
       "    <tr>\n",
       "      <th>wellness_program</th>\n",
       "      <td>No</td>\n",
       "      <td>Don't know</td>\n",
       "      <td>No</td>\n",
       "      <td>No</td>\n",
       "      <td>Don't know</td>\n",
       "    </tr>\n",
       "    <tr>\n",
       "      <th>seek_help</th>\n",
       "      <td>Yes</td>\n",
       "      <td>Don't know</td>\n",
       "      <td>No</td>\n",
       "      <td>No</td>\n",
       "      <td>Don't know</td>\n",
       "    </tr>\n",
       "    <tr>\n",
       "      <th>anonymity</th>\n",
       "      <td>Yes</td>\n",
       "      <td>Don't know</td>\n",
       "      <td>Don't know</td>\n",
       "      <td>No</td>\n",
       "      <td>Don't know</td>\n",
       "    </tr>\n",
       "    <tr>\n",
       "      <th>leave</th>\n",
       "      <td>Somewhat easy</td>\n",
       "      <td>Don't know</td>\n",
       "      <td>Somewhat difficult</td>\n",
       "      <td>Somewhat difficult</td>\n",
       "      <td>Don't know</td>\n",
       "    </tr>\n",
       "    <tr>\n",
       "      <th>mental_health_consequence</th>\n",
       "      <td>No</td>\n",
       "      <td>Maybe</td>\n",
       "      <td>No</td>\n",
       "      <td>Yes</td>\n",
       "      <td>No</td>\n",
       "    </tr>\n",
       "    <tr>\n",
       "      <th>phys_health_consequence</th>\n",
       "      <td>No</td>\n",
       "      <td>No</td>\n",
       "      <td>No</td>\n",
       "      <td>Yes</td>\n",
       "      <td>No</td>\n",
       "    </tr>\n",
       "    <tr>\n",
       "      <th>coworkers</th>\n",
       "      <td>Some of them</td>\n",
       "      <td>No</td>\n",
       "      <td>Yes</td>\n",
       "      <td>Some of them</td>\n",
       "      <td>Some of them</td>\n",
       "    </tr>\n",
       "    <tr>\n",
       "      <th>supervisor</th>\n",
       "      <td>Yes</td>\n",
       "      <td>No</td>\n",
       "      <td>Yes</td>\n",
       "      <td>No</td>\n",
       "      <td>Yes</td>\n",
       "    </tr>\n",
       "    <tr>\n",
       "      <th>mental_health_interview</th>\n",
       "      <td>No</td>\n",
       "      <td>No</td>\n",
       "      <td>Yes</td>\n",
       "      <td>Maybe</td>\n",
       "      <td>Yes</td>\n",
       "    </tr>\n",
       "    <tr>\n",
       "      <th>phys_health_interview</th>\n",
       "      <td>Maybe</td>\n",
       "      <td>No</td>\n",
       "      <td>Yes</td>\n",
       "      <td>Maybe</td>\n",
       "      <td>Yes</td>\n",
       "    </tr>\n",
       "    <tr>\n",
       "      <th>mental_vs_physical</th>\n",
       "      <td>Yes</td>\n",
       "      <td>Don't know</td>\n",
       "      <td>No</td>\n",
       "      <td>No</td>\n",
       "      <td>Don't know</td>\n",
       "    </tr>\n",
       "    <tr>\n",
       "      <th>obs_consequence</th>\n",
       "      <td>No</td>\n",
       "      <td>No</td>\n",
       "      <td>No</td>\n",
       "      <td>Yes</td>\n",
       "      <td>No</td>\n",
       "    </tr>\n",
       "    <tr>\n",
       "      <th>comments</th>\n",
       "      <td>NA</td>\n",
       "      <td>NA</td>\n",
       "      <td>NA</td>\n",
       "      <td>NA</td>\n",
       "      <td>NA</td>\n",
       "    </tr>\n",
       "  </tbody>\n",
       "</table>\n",
       "</div>"
      ],
      "text/plain": [
       "                                         0                1  \\\n",
       "Timestamp                  2014/8/27 11:29  2014/8/27 11:29   \n",
       "Age                                     37               44   \n",
       "Gender                              Female                M   \n",
       "Country                      United States    United States   \n",
       "state                                   IL               IN   \n",
       "self_employed                           NA               NA   \n",
       "family_history                          No               No   \n",
       "treatment                              Yes               No   \n",
       "work_interfere                       Often           Rarely   \n",
       "no_employees                       6��25��   More than 1000   \n",
       "remote_work                             No               No   \n",
       "tech_company                           Yes               No   \n",
       "benefits                               Yes       Don't know   \n",
       "care_options                      Not sure               No   \n",
       "wellness_program                        No       Don't know   \n",
       "seek_help                              Yes       Don't know   \n",
       "anonymity                              Yes       Don't know   \n",
       "leave                        Somewhat easy       Don't know   \n",
       "mental_health_consequence               No            Maybe   \n",
       "phys_health_consequence                 No               No   \n",
       "coworkers                     Some of them               No   \n",
       "supervisor                             Yes               No   \n",
       "mental_health_interview                 No               No   \n",
       "phys_health_interview                Maybe               No   \n",
       "mental_vs_physical                     Yes       Don't know   \n",
       "obs_consequence                         No               No   \n",
       "comments                                NA               NA   \n",
       "\n",
       "                                            2                   3  \\\n",
       "Timestamp                     2014/8/27 11:29     2014/8/27 11:29   \n",
       "Age                                        32                  31   \n",
       "Gender                                   Male                Male   \n",
       "Country                                Canada      United Kingdom   \n",
       "state                                      NA                  NA   \n",
       "self_employed                              NA                  NA   \n",
       "family_history                             No                 Yes   \n",
       "treatment                                  No                 Yes   \n",
       "work_interfere                         Rarely               Often   \n",
       "no_employees                          6��25��              26-100   \n",
       "remote_work                                No                  No   \n",
       "tech_company                              Yes                 Yes   \n",
       "benefits                                   No                  No   \n",
       "care_options                               No                 Yes   \n",
       "wellness_program                           No                  No   \n",
       "seek_help                                  No                  No   \n",
       "anonymity                          Don't know                  No   \n",
       "leave                      Somewhat difficult  Somewhat difficult   \n",
       "mental_health_consequence                  No                 Yes   \n",
       "phys_health_consequence                    No                 Yes   \n",
       "coworkers                                 Yes        Some of them   \n",
       "supervisor                                Yes                  No   \n",
       "mental_health_interview                   Yes               Maybe   \n",
       "phys_health_interview                     Yes               Maybe   \n",
       "mental_vs_physical                         No                  No   \n",
       "obs_consequence                            No                 Yes   \n",
       "comments                                   NA                  NA   \n",
       "\n",
       "                                         4  \n",
       "Timestamp                  2014/8/27 11:30  \n",
       "Age                                     31  \n",
       "Gender                                Male  \n",
       "Country                      United States  \n",
       "state                                   TX  \n",
       "self_employed                           NA  \n",
       "family_history                          No  \n",
       "treatment                               No  \n",
       "work_interfere                       Never  \n",
       "no_employees                       100-500  \n",
       "remote_work                            Yes  \n",
       "tech_company                           Yes  \n",
       "benefits                               Yes  \n",
       "care_options                            No  \n",
       "wellness_program                Don't know  \n",
       "seek_help                       Don't know  \n",
       "anonymity                       Don't know  \n",
       "leave                           Don't know  \n",
       "mental_health_consequence               No  \n",
       "phys_health_consequence                 No  \n",
       "coworkers                     Some of them  \n",
       "supervisor                             Yes  \n",
       "mental_health_interview                Yes  \n",
       "phys_health_interview                  Yes  \n",
       "mental_vs_physical              Don't know  \n",
       "obs_consequence                         No  \n",
       "comments                                NA  "
      ]
     },
     "execution_count": 48,
     "metadata": {},
     "output_type": "execute_result"
    }
   ],
   "source": [
    "pd.DataFrame(df.take(5), columns=df.columns).transpose()"
   ]
  },
  {
   "cell_type": "code",
   "execution_count": 49,
   "metadata": {},
   "outputs": [
    {
     "data": {
      "text/html": [
       "<div>\n",
       "<style scoped>\n",
       "    .dataframe tbody tr th:only-of-type {\n",
       "        vertical-align: middle;\n",
       "    }\n",
       "\n",
       "    .dataframe tbody tr th {\n",
       "        vertical-align: top;\n",
       "    }\n",
       "\n",
       "    .dataframe thead th {\n",
       "        text-align: right;\n",
       "    }\n",
       "</style>\n",
       "<table border=\"1\" class=\"dataframe\">\n",
       "  <thead>\n",
       "    <tr style=\"text-align: right;\">\n",
       "      <th></th>\n",
       "      <th>treatment</th>\n",
       "      <th>count</th>\n",
       "    </tr>\n",
       "  </thead>\n",
       "  <tbody>\n",
       "    <tr>\n",
       "      <th>0</th>\n",
       "      <td>No</td>\n",
       "      <td>622</td>\n",
       "    </tr>\n",
       "    <tr>\n",
       "      <th>1</th>\n",
       "      <td>Yes</td>\n",
       "      <td>637</td>\n",
       "    </tr>\n",
       "  </tbody>\n",
       "</table>\n",
       "</div>"
      ],
      "text/plain": [
       "  treatment  count\n",
       "0        No    622\n",
       "1       Yes    637"
      ]
     },
     "execution_count": 49,
     "metadata": {},
     "output_type": "execute_result"
    }
   ],
   "source": [
    "df.groupby('treatment').count().toPandas()"
   ]
  },
  {
   "cell_type": "code",
   "execution_count": 50,
   "metadata": {},
   "outputs": [
    {
     "data": {
      "text/html": [
       "<div>\n",
       "<style scoped>\n",
       "    .dataframe tbody tr th:only-of-type {\n",
       "        vertical-align: middle;\n",
       "    }\n",
       "\n",
       "    .dataframe tbody tr th {\n",
       "        vertical-align: top;\n",
       "    }\n",
       "\n",
       "    .dataframe thead th {\n",
       "        text-align: right;\n",
       "    }\n",
       "</style>\n",
       "<table border=\"1\" class=\"dataframe\">\n",
       "  <thead>\n",
       "    <tr style=\"text-align: right;\">\n",
       "      <th></th>\n",
       "      <th>0</th>\n",
       "      <th>1</th>\n",
       "      <th>2</th>\n",
       "      <th>3</th>\n",
       "      <th>4</th>\n",
       "    </tr>\n",
       "  </thead>\n",
       "  <tbody>\n",
       "    <tr>\n",
       "      <th>summary</th>\n",
       "      <td>count</td>\n",
       "      <td>mean</td>\n",
       "      <td>stddev</td>\n",
       "      <td>min</td>\n",
       "      <td>max</td>\n",
       "    </tr>\n",
       "  </tbody>\n",
       "</table>\n",
       "</div>"
      ],
      "text/plain": [
       "             0     1       2    3    4\n",
       "summary  count  mean  stddev  min  max"
      ]
     },
     "execution_count": 50,
     "metadata": {},
     "output_type": "execute_result"
    }
   ],
   "source": [
    "numeric_features = [t[0] for t in df.dtypes if t[1] == 'int']\n",
    "df.select(numeric_features).describe().toPandas().transpose()"
   ]
  },
  {
   "cell_type": "code",
   "execution_count": 51,
   "metadata": {},
   "outputs": [
    {
     "name": "stdout",
     "output_type": "stream",
     "text": [
      "root\n",
      " |-- Age: long (nullable = true)\n",
      " |-- Gender: string (nullable = true)\n",
      " |-- self_employed: string (nullable = true)\n",
      " |-- family_history: string (nullable = true)\n",
      " |-- treatment: string (nullable = true)\n",
      " |-- work_interfere: string (nullable = true)\n",
      " |-- benefits: string (nullable = true)\n",
      " |-- care_options: string (nullable = true)\n",
      " |-- seek_help: string (nullable = true)\n",
      "\n"
     ]
    }
   ],
   "source": [
    "df = df.select('Age', 'Gender', 'self_employed', 'family_history', 'treatment', 'work_interfere', 'benefits', 'care_options', 'seek_help')\n",
    "df.printSchema()"
   ]
  },
  {
   "cell_type": "code",
   "execution_count": 52,
   "metadata": {},
   "outputs": [],
   "source": [
    "from pyspark.ml.feature import (VectorAssembler,VectorIndexer,OneHotEncoder,StringIndexer)"
   ]
  },
  {
   "cell_type": "code",
   "execution_count": 53,
   "metadata": {},
   "outputs": [],
   "source": [
    "Gender_indexer = StringIndexer(inputCol='Gender',outputCol='GenderIndex')\n",
    "self_employed_indexer = StringIndexer(inputCol='self_employed',outputCol='self_employedIndex')\n",
    "family_history_indexer = StringIndexer(inputCol='family_history',outputCol='family_historyIndex')\n",
    "work_interfere_indexer = StringIndexer(inputCol='work_interfere',outputCol='work_interfereIndex')\n",
    "benefits_indexer = StringIndexer(inputCol='benefits',outputCol='benefitsIndex')\n",
    "care_options_indexer = StringIndexer(inputCol='care_options',outputCol='care_optionsIndex')\n",
    "seek_help_indexer = StringIndexer(inputCol='seek_help',outputCol='seek_helpIndex')\n",
    "treatment_indexer = StringIndexer(inputCol='treatment',outputCol='label')"
   ]
  },
  {
   "cell_type": "code",
   "execution_count": 54,
   "metadata": {},
   "outputs": [],
   "source": [
    "Gender_encoder = OneHotEncoder(inputCol='GenderIndex',outputCol='GenderVec')\n",
    "self_employed_encoder = OneHotEncoder(inputCol='self_employedIndex',outputCol='self_employedVec')\n",
    "family_history_encoder = OneHotEncoder(inputCol='family_historyIndex',outputCol='family_historyVec')\n",
    "work_interfere_encoder = OneHotEncoder(inputCol='work_interfereIndex',outputCol='work_interfereVec')\n",
    "benefits_encoder = OneHotEncoder(inputCol='benefitsIndex',outputCol='benefitsVec')\n",
    "care_options_encoder = OneHotEncoder(inputCol='care_optionsIndex',outputCol='care_optionsVec')\n",
    "seek_help_encoder = OneHotEncoder(inputCol='seek_helpIndex',outputCol='seek_helpVec')"
   ]
  },
  {
   "cell_type": "code",
   "execution_count": 55,
   "metadata": {},
   "outputs": [],
   "source": [
    "assembler = VectorAssembler(inputCols=['GenderVec','self_employedVec','family_historyVec','work_interfereVec','benefitsVec','care_optionsVec','seek_helpVec',\n",
    "                                       'Age'], outputCol=\"features\")"
   ]
  },
  {
   "cell_type": "code",
   "execution_count": 56,
   "metadata": {},
   "outputs": [],
   "source": [
    "from pyspark.ml import Pipeline\n",
    "pipeline = Pipeline(stages=[Gender_indexer, self_employed_indexer, family_history_indexer, treatment_indexer,\n",
    "                            work_interfere_indexer, benefits_indexer, care_options_indexer, seek_help_indexer,\n",
    "                            Gender_encoder, self_employed_encoder, family_history_encoder,\n",
    "                            work_interfere_encoder, benefits_encoder, care_options_encoder,\n",
    "                            seek_help_encoder, assembler])\n",
    "pipeline_model = pipeline.fit(df)\n",
    "pipe_df = pipeline_model.transform(df)\n",
    "pipe_df = pipe_df.select('label', 'features')"
   ]
  },
  {
   "cell_type": "code",
   "execution_count": 57,
   "metadata": {},
   "outputs": [
    {
     "name": "stdout",
     "output_type": "stream",
     "text": [
      "Training Dataset Count: 893\n",
      "Test Dataset Count: 366\n"
     ]
    }
   ],
   "source": [
    "from pyspark.ml.classification import LogisticRegression\n",
    "train_data, test_data = pipe_df.randomSplit([0.7,0.3])\n",
    "print(\"Training Dataset Count: \" + str(train_data.count()))\n",
    "print(\"Test Dataset Count: \" + str(test_data.count()))\n",
    "lr_model = LogisticRegression(featuresCol='features',labelCol='label')\n",
    "lr_model = lr_model.fit(train_data)\n",
    "results = lr_model.transform(test_data)"
   ]
  },
  {
   "cell_type": "code",
   "execution_count": 58,
   "metadata": {},
   "outputs": [
    {
     "data": {
      "image/png": "[encoded data removed]",
      "text/plain": [
       "<Figure size 432x288 with 1 Axes>"
      ]
     },
     "metadata": {},
     "output_type": "display_data"
    }
   ],
   "source": [
    "import matplotlib.pyplot as plt\n",
    "import numpy as np\n",
    "beta = np.sort(lr_model.coefficients)\n",
    "plt.plot(beta)\n",
    "plt.ylabel('Beta Coefficients')\n",
    "plt.show()"
   ]
  },
  {
   "cell_type": "code",
   "execution_count": 59,
   "metadata": {},
   "outputs": [
    {
     "data": {
      "image/png": "[encoded data removed]",
      "text/plain": [
       "<Figure size 432x288 with 1 Axes>"
      ]
     },
     "metadata": {},
     "output_type": "display_data"
    },
    {
     "name": "stdout",
     "output_type": "stream",
     "text": [
      "Area Under the Curve: 0.9153289321868946\n"
     ]
    }
   ],
   "source": [
    "training_summary = lr_model.summary\n",
    "ROC = training_summary.roc.toPandas()\n",
    "plt.plot(ROC['FPR'],ROC['TPR'])\n",
    "plt.ylabel('True Positive Rate')\n",
    "plt.xlabel('False Positive Rate')\n",
    "plt.title('ROC Curve')\n",
    "plt.show()\n",
    "print('Area Under the Curve: ' + str(training_summary.areaUnderROC))"
   ]
  },
  {
   "cell_type": "code",
   "execution_count": 60,
   "metadata": {},
   "outputs": [
    {
     "data": {
      "image/png": "[encoded data removed]",
      "text/plain": [
       "<Figure size 432x288 with 1 Axes>"
      ]
     },
     "metadata": {},
     "output_type": "display_data"
    }
   ],
   "source": [
    "pr = training_summary.pr.toPandas()\n",
    "plt.plot(pr['recall'],pr['precision'])\n",
    "plt.ylabel('Precision')\n",
    "plt.xlabel('Recall')\n",
    "plt.show()"
   ]
  },
  {
   "cell_type": "code",
   "execution_count": null,
   "metadata": {},
   "outputs": [],
   "source": []
  },
  {
   "cell_type": "code",
   "execution_count": null,
   "metadata": {},
   "outputs": [],
   "source": []
  }
 ],
 "metadata": {
  "kernelspec": {
   "display_name": "Python 3",
   "language": "python",
   "name": "python3"
  },
  "language_info": {
   "codemirror_mode": {
    "name": "ipython",
    "version": 3
   },
   "file_extension": ".py",
   "mimetype": "text/x-python",
   "name": "python",
   "nbconvert_exporter": "python",
   "pygments_lexer": "ipython3",
   "version": "3.5.2"
  }
 },
 "nbformat": 4,
 "nbformat_minor": 2
}
