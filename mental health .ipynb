{
 "cells": [
  {
   "cell_type": "code",
   "execution_count": 1,
   "metadata": {},
   "outputs": [
    {
     "name": "stdout",
     "output_type": "stream",
     "text": [
      "root\n",
      " |-- Timestamp: string (nullable = true)\n",
      " |-- Age: long (nullable = true)\n",
      " |-- Gender: string (nullable = true)\n",
      " |-- Country: string (nullable = true)\n",
      " |-- state: string (nullable = true)\n",
      " |-- self_employed: string (nullable = true)\n",
      " |-- family_history: string (nullable = true)\n",
      " |-- treatment: string (nullable = true)\n",
      " |-- work_interfere: string (nullable = true)\n",
      " |-- no_employees: string (nullable = true)\n",
      " |-- remote_work: string (nullable = true)\n",
      " |-- tech_company: string (nullable = true)\n",
      " |-- benefits: string (nullable = true)\n",
      " |-- care_options: string (nullable = true)\n",
      " |-- wellness_program: string (nullable = true)\n",
      " |-- seek_help: string (nullable = true)\n",
      " |-- anonymity: string (nullable = true)\n",
      " |-- leave: string (nullable = true)\n",
      " |-- mental_health_consequence: string (nullable = true)\n",
      " |-- phys_health_consequence: string (nullable = true)\n",
      " |-- coworkers: string (nullable = true)\n",
      " |-- supervisor: string (nullable = true)\n",
      " |-- mental_health_interview: string (nullable = true)\n",
      " |-- phys_health_interview: string (nullable = true)\n",
      " |-- mental_vs_physical: string (nullable = true)\n",
      " |-- obs_consequence: string (nullable = true)\n",
      " |-- comments: string (nullable = true)\n",
      "\n",
      "['Timestamp', 'Age', 'Gender', 'Country', 'state', 'self_employed', 'family_history', 'treatment', 'work_interfere', 'no_employees', 'remote_work', 'tech_company', 'benefits', 'care_options', 'wellness_program', 'seek_help', 'anonymity', 'leave', 'mental_health_consequence', 'phys_health_consequence', 'coworkers', 'supervisor', 'mental_health_interview', 'phys_health_interview', 'mental_vs_physical', 'obs_consequence', 'comments']\n"
     ]
    }
   ],
   "source": [
    "import findspark\n",
    "findspark.init('/home/ubuntu/spark-2.1.1-bin-hadoop2.7')\n",
    "import pyspark\n",
    "from pyspark.sql import *\n",
    "spark = SparkSession.builder.appName('logistic_regression_adv').getOrCreate()\n",
    "from pyspark.ml.classification import LogisticRegression\n",
    "df = spark.read.csv('survey.csv',header=True,inferSchema=True)\n",
    "df.printSchema()\n",
    "print(df.columns)"
   ]
  },
  {
   "cell_type": "code",
   "execution_count": 2,
   "metadata": {},
   "outputs": [
    {
     "name": "stdout",
     "output_type": "stream",
     "text": [
      "+---------------+---+------+--------------+-----+-------------+--------------+---------+--------------+--------------+-----------+------------+----------+------------+----------------+----------+----------+------------------+-------------------------+-----------------------+------------+------------+-----------------------+---------------------+------------------+---------------+--------------------+\n",
      "|      Timestamp|Age|Gender|       Country|state|self_employed|family_history|treatment|work_interfere|  no_employees|remote_work|tech_company|  benefits|care_options|wellness_program| seek_help| anonymity|             leave|mental_health_consequence|phys_health_consequence|   coworkers|  supervisor|mental_health_interview|phys_health_interview|mental_vs_physical|obs_consequence|            comments|\n",
      "+---------------+---+------+--------------+-----+-------------+--------------+---------+--------------+--------------+-----------+------------+----------+------------+----------------+----------+----------+------------------+-------------------------+-----------------------+------------+------------+-----------------------+---------------------+------------------+---------------+--------------------+\n",
      "|2014/8/27 11:29| 37|Female| United States|   IL|           NA|            No|      Yes|         Often|       6��25��|         No|         Yes|       Yes|    Not sure|              No|       Yes|       Yes|     Somewhat easy|                       No|                     No|Some of them|         Yes|                     No|                Maybe|               Yes|             No|                  NA|\n",
      "|2014/8/27 11:29| 44|     M| United States|   IN|           NA|            No|       No|        Rarely|More than 1000|         No|          No|Don't know|          No|      Don't know|Don't know|Don't know|        Don't know|                    Maybe|                     No|          No|          No|                     No|                   No|        Don't know|             No|                  NA|\n",
      "|2014/8/27 11:29| 32|  Male|        Canada|   NA|           NA|            No|       No|        Rarely|       6��25��|         No|         Yes|        No|          No|              No|        No|Don't know|Somewhat difficult|                       No|                     No|         Yes|         Yes|                    Yes|                  Yes|                No|             No|                  NA|\n",
      "|2014/8/27 11:29| 31|  Male|United Kingdom|   NA|           NA|           Yes|      Yes|         Often|        26-100|         No|         Yes|        No|         Yes|              No|        No|        No|Somewhat difficult|                      Yes|                    Yes|Some of them|          No|                  Maybe|                Maybe|                No|            Yes|                  NA|\n",
      "|2014/8/27 11:30| 31|  Male| United States|   TX|           NA|            No|       No|         Never|       100-500|        Yes|         Yes|       Yes|          No|      Don't know|Don't know|Don't know|        Don't know|                       No|                     No|Some of them|         Yes|                    Yes|                  Yes|        Don't know|             No|                  NA|\n",
      "|2014/8/27 11:31| 33|  Male| United States|   TN|           NA|           Yes|       No|     Sometimes|       6��25��|         No|         Yes|       Yes|    Not sure|              No|Don't know|Don't know|        Don't know|                       No|                     No|         Yes|         Yes|                     No|                Maybe|        Don't know|             No|                  NA|\n",
      "|2014/8/27 11:31| 35|Female| United States|   MI|           NA|           Yes|      Yes|     Sometimes|        1��5��|        Yes|         Yes|        No|          No|              No|        No|        No|Somewhat difficult|                    Maybe|                  Maybe|Some of them|          No|                     No|                   No|        Don't know|             No|                  NA|\n",
      "|2014/8/27 11:32| 39|     M|        Canada|   NA|           NA|            No|       No|         Never|        1��5��|        Yes|         Yes|        No|         Yes|              No|        No|       Yes|        Don't know|                       No|                     No|          No|          No|                     No|                   No|                No|             No|                  NA|\n",
      "|2014/8/27 11:32| 42|Female| United States|   IL|           NA|           Yes|      Yes|     Sometimes|       100-500|         No|         Yes|       Yes|         Yes|              No|        No|        No|    Very difficult|                    Maybe|                     No|         Yes|         Yes|                     No|                Maybe|                No|             No|                  NA|\n",
      "|2014/8/27 11:32| 23|  Male|        Canada|   NA|           NA|            No|       No|         Never|        26-100|         No|         Yes|Don't know|          No|      Don't know|Don't know|Don't know|        Don't know|                       No|                     No|         Yes|         Yes|                  Maybe|                Maybe|               Yes|             No|                  NA|\n",
      "|2014/8/27 11:32| 31|  Male| United States|   OH|           NA|            No|      Yes|     Sometimes|       6��25��|        Yes|         Yes|Don't know|          No|              No|        No|Don't know|        Don't know|                       No|                     No|Some of them|         Yes|                     No|                   No|        Don't know|             No|                  NA|\n",
      "|2014/8/27 11:32| 29|  male|      Bulgaria|   NA|           NA|            No|       No|         Never|       100-500|        Yes|         Yes|Don't know|    Not sure|              No|        No|Don't know|        Don't know|                       No|                     No|         Yes|         Yes|                    Yes|                  Yes|        Don't know|             No|                  NA|\n",
      "|2014/8/27 11:33| 42|female| United States|   CA|           NA|           Yes|      Yes|     Sometimes|        26-100|         No|          No|       Yes|         Yes|              No|        No|Don't know|Somewhat difficult|                      Yes|                    Yes|         Yes|         Yes|                  Maybe|                Maybe|                No|            Yes|                  NA|\n",
      "|2014/8/27 11:33| 36|  Male| United States|   CT|           NA|           Yes|       No|         Never|      500-1000|         No|         Yes|Don't know|    Not sure|              No|Don't know|Don't know|        Don't know|                       No|                     No|         Yes|         Yes|                     No|                   No|        Don't know|             No|I'm not on my com...|\n",
      "|2014/8/27 11:33| 27|  Male|        Canada|   NA|           NA|            No|       No|         Never|       6��25��|         No|         Yes|Don't know|    Not sure|      Don't know|Don't know|Don't know|     Somewhat easy|                       No|                     No|Some of them|Some of them|                  Maybe|                  Yes|               Yes|             No|                  NA|\n",
      "|2014/8/27 11:34| 29|female| United States|   IL|           NA|           Yes|      Yes|        Rarely|        26-100|         No|         Yes|       Yes|    Not sure|              No|        No|Don't know|     Somewhat easy|                       No|                     No|         Yes|Some of them|                  Maybe|                Maybe|        Don't know|             No|I have chronic lo...|\n",
      "|2014/8/27 11:34| 23|  Male|United Kingdom|   NA|           NA|            No|      Yes|     Sometimes|        26-100|        Yes|         Yes|Don't know|          No|      Don't know|Don't know|Don't know|         Very easy|                    Maybe|                     No|Some of them|          No|                  Maybe|                Maybe|                No|             No|My company does p...|\n",
      "|2014/8/27 11:34| 32|  Male| United States|   TN|           NA|            No|      Yes|     Sometimes|       6��25��|         No|         Yes|       Yes|         Yes|              No|Don't know|Don't know|        Don't know|                    Maybe|                     No|Some of them|         Yes|                     No|                   No|                No|             No|                  NA|\n",
      "|2014/8/27 11:34| 46|  male| United States|   MD|          Yes|           Yes|       No|     Sometimes|        1��5��|        Yes|         Yes|       Yes|    Not sure|             Yes|Don't know|       Yes|         Very easy|                       No|                     No|         Yes|         Yes|                     No|                  Yes|               Yes|            Yes|                  NA|\n",
      "|2014/8/27 11:35| 36|  Male|        France|   NA|          Yes|           Yes|       No|            NA|       6��25��|        Yes|         Yes|        No|          No|             Yes|        No|       Yes|     Somewhat easy|                       No|                     No|Some of them|Some of them|                  Maybe|                Maybe|        Don't know|             No|                  NA|\n",
      "+---------------+---+------+--------------+-----+-------------+--------------+---------+--------------+--------------+-----------+------------+----------+------------+----------------+----------+----------+------------------+-------------------------+-----------------------+------------+------------+-----------------------+---------------------+------------------+---------------+--------------------+\n",
      "only showing top 20 rows\n",
      "\n"
     ]
    }
   ],
   "source": [
    "df.show()"
   ]
  },
  {
   "cell_type": "code",
   "execution_count": 3,
   "metadata": {},
   "outputs": [
    {
     "name": "stdout",
     "output_type": "stream",
     "text": [
      "+------------------------+---+---+\n",
      "|treatment_family_history| No|Yes|\n",
      "+------------------------+---+---+\n",
      "|                      No|495|127|\n",
      "|                     Yes|272|365|\n",
      "+------------------------+---+---+\n",
      "\n"
     ]
    }
   ],
   "source": [
    "df.crosstab('treatment', 'family_history').show()"
   ]
  },
  {
   "cell_type": "code",
   "execution_count": 4,
   "metadata": {},
   "outputs": [
    {
     "name": "stdout",
     "output_type": "stream",
     "text": [
      "+-----------------------+---+---+---+\n",
      "|treatment_self_employed| NA| No|Yes|\n",
      "+-----------------------+---+---+---+\n",
      "|                     No|  9|545| 68|\n",
      "|                    Yes|  9|550| 78|\n",
      "+-----------------------+---+---+---+\n",
      "\n"
     ]
    }
   ],
   "source": [
    "df.crosstab('treatment', 'self_employed').show()"
   ]
  },
  {
   "cell_type": "code",
   "execution_count": 5,
   "metadata": {},
   "outputs": [
    {
     "name": "stdout",
     "output_type": "stream",
     "text": [
      "+------------------------+---+-----+-----+------+---------+\n",
      "|treatment_work_interfere| NA|Never|Often|Rarely|Sometimes|\n",
      "+------------------------+---+-----+-----+------+---------+\n",
      "|                      No|260|  183|   21|    51|      107|\n",
      "|                     Yes|  4|   30|  123|   122|      358|\n",
      "+------------------------+---+-----+-----+------+---------+\n",
      "\n"
     ]
    }
   ],
   "source": [
    "df.crosstab('treatment', 'work_interfere').show()"
   ]
  },
  {
   "cell_type": "code",
   "execution_count": 6,
   "metadata": {},
   "outputs": [
    {
     "name": "stdout",
     "output_type": "stream",
     "text": [
      "+-------+--------------------+\n",
      "|summary|                 Age|\n",
      "+-------+--------------------+\n",
      "|  count|                1259|\n",
      "|   mean| 7.942814831135821E7|\n",
      "| stddev|2.8182994429819684E9|\n",
      "|    min|               -1726|\n",
      "|    max|         99999999999|\n",
      "+-------+--------------------+\n",
      "\n"
     ]
    }
   ],
   "source": [
    "df.describe(\"Age\").show()"
   ]
  },
  {
   "cell_type": "code",
   "execution_count": 7,
   "metadata": {},
   "outputs": [
    {
     "name": "stdout",
     "output_type": "stream",
     "text": [
      "+--------------+-------------------+\n",
      "|  no_employees|           avg(Age)|\n",
      "+--------------+-------------------+\n",
      "|       100-500|  32.01704545454545|\n",
      "|       6��25��| 31.717241379310344|\n",
      "|        1��5��|6.172839826728395E8|\n",
      "|      500-1000|  34.06666666666667|\n",
      "|More than 1000|  33.49290780141844|\n",
      "|        26-100|  24.94463667820069|\n",
      "+--------------+-------------------+\n",
      "\n"
     ]
    }
   ],
   "source": [
    "df.groupBy('no_employees').mean().show()"
   ]
  },
  {
   "cell_type": "code",
   "execution_count": 8,
   "metadata": {
    "scrolled": false
   },
   "outputs": [
    {
     "name": "stdout",
     "output_type": "stream",
     "text": [
      "+-------+---------------+--------------------+------------------+---------+-----+-------------+--------------+---------+--------------+--------------+-----------+------------+----------+------------+----------------+----------+----------+----------+-------------------------+-----------------------+---------+----------+-----------------------+---------------------+------------------+---------------+--------------------+\n",
      "|summary|      Timestamp|                 Age|            Gender|  Country|state|self_employed|family_history|treatment|work_interfere|  no_employees|remote_work|tech_company|  benefits|care_options|wellness_program| seek_help| anonymity|     leave|mental_health_consequence|phys_health_consequence|coworkers|supervisor|mental_health_interview|phys_health_interview|mental_vs_physical|obs_consequence|            comments|\n",
      "+-------+---------------+--------------------+------------------+---------+-----+-------------+--------------+---------+--------------+--------------+-----------+------------+----------+------------+----------------+----------+----------+----------+-------------------------+-----------------------+---------+----------+-----------------------+---------------------+------------------+---------------+--------------------+\n",
      "|  count|           1259|                1259|              1259|     1259| 1259|         1259|          1259|     1259|          1259|          1259|       1259|        1259|      1259|        1259|            1259|      1259|      1259|      1259|                     1259|                   1259|     1259|      1259|                   1259|                 1259|              1259|           1259|                1259|\n",
      "|   mean|           null| 7.942814831135821E7|              null|     null| null|         null|          null|     null|          null|          null|       null|        null|      null|        null|            null|      null|      null|      null|                     null|                   null|     null|      null|                   null|                 null|              null|           null|                null|\n",
      "| stddev|           null|2.8182994429819684E9|              null|     null| null|         null|          null|     null|          null|          null|       null|        null|      null|        null|            null|      null|      null|      null|                     null|                   null|     null|      null|                   null|                 null|              null|           null|                null|\n",
      "|    min|2014/10/2 21:25|               -1726|A little about you|Australia|   AL|           NA|            No|       No|            NA|       100-500|         No|          No|Don't know|          No|      Don't know|Don't know|Don't know|Don't know|                    Maybe|                  Maybe|       No|        No|                  Maybe|                Maybe|        Don't know|             No|                    |\n",
      "|    max| 2016/2/1 23:04|         99999999999|             woman| Zimbabwe|   WY|          Yes|           Yes|      Yes|     Sometimes|More than 1000|        Yes|         Yes|       Yes|         Yes|             Yes|       Yes|       Yes| Very easy|                      Yes|                    Yes|      Yes|       Yes|                    Yes|                  Yes|               Yes|            Yes|you rock for doin...|\n",
      "+-------+---------------+--------------------+------------------+---------+-----+-------------+--------------+---------+--------------+--------------+-----------+------------+----------+------------+----------------+----------+----------+----------+-------------------------+-----------------------+---------+----------+-----------------------+---------------------+------------------+---------------+--------------------+\n",
      "\n"
     ]
    }
   ],
   "source": [
    "df.describe().show()"
   ]
  },
  {
   "cell_type": "code",
   "execution_count": 9,
   "metadata": {
    "scrolled": true
   },
   "outputs": [
    {
     "name": "stdout",
     "output_type": "stream",
     "text": [
      "root\n",
      " |-- Age: long (nullable = true)\n",
      " |-- Gender: string (nullable = true)\n",
      " |-- self_employed: string (nullable = true)\n",
      " |-- family_history: string (nullable = true)\n",
      " |-- treatment: string (nullable = true)\n",
      " |-- work_interfere: string (nullable = true)\n",
      " |-- no_employees: string (nullable = true)\n",
      " |-- benefits: string (nullable = true)\n",
      " |-- care_options: string (nullable = true)\n",
      " |-- seek_help: string (nullable = true)\n",
      "\n"
     ]
    }
   ],
   "source": [
    "df = df.select('Age', 'Gender', 'self_employed', 'family_history', 'treatment', 'work_interfere','no_employees', 'benefits', 'care_options', 'seek_help')\n",
    "df.printSchema()"
   ]
  },
  {
   "cell_type": "code",
   "execution_count": 10,
   "metadata": {},
   "outputs": [
    {
     "name": "stdout",
     "output_type": "stream",
     "text": [
      "+---+------+-------------+--------------+---------+--------------+--------------+----------+------------+----------+\n",
      "|Age|Gender|self_employed|family_history|treatment|work_interfere|  no_employees|  benefits|care_options| seek_help|\n",
      "+---+------+-------------+--------------+---------+--------------+--------------+----------+------------+----------+\n",
      "| 37|female|           NA|            No|      Yes|         Often|       6��25��|       Yes|    Not sure|       Yes|\n",
      "| 44|  male|           NA|            No|       No|        Rarely|More than 1000|Don't know|          No|Don't know|\n",
      "| 32|  male|           NA|            No|       No|        Rarely|       6��25��|        No|          No|        No|\n",
      "| 31|  male|           NA|           Yes|      Yes|         Often|        26-100|        No|         Yes|        No|\n",
      "| 31|  male|           NA|            No|       No|         Never|       100-500|       Yes|          No|Don't know|\n",
      "| 33|  male|           NA|           Yes|       No|     Sometimes|       6��25��|       Yes|    Not sure|Don't know|\n",
      "| 35|female|           NA|           Yes|      Yes|     Sometimes|        1��5��|        No|          No|        No|\n",
      "| 39|  male|           NA|            No|       No|         Never|        1��5��|        No|         Yes|        No|\n",
      "| 42|female|           NA|           Yes|      Yes|     Sometimes|       100-500|       Yes|         Yes|        No|\n",
      "| 23|  male|           NA|            No|       No|         Never|        26-100|Don't know|          No|Don't know|\n",
      "| 31|  male|           NA|            No|      Yes|     Sometimes|       6��25��|Don't know|          No|        No|\n",
      "| 29|  male|           NA|            No|       No|         Never|       100-500|Don't know|    Not sure|        No|\n",
      "| 42|female|           NA|           Yes|      Yes|     Sometimes|        26-100|       Yes|         Yes|        No|\n",
      "| 36|  male|           NA|           Yes|       No|         Never|      500-1000|Don't know|    Not sure|Don't know|\n",
      "| 27|  male|           NA|            No|       No|         Never|       6��25��|Don't know|    Not sure|Don't know|\n",
      "| 29|female|           NA|           Yes|      Yes|        Rarely|        26-100|       Yes|    Not sure|        No|\n",
      "| 23|  male|           NA|            No|      Yes|     Sometimes|        26-100|Don't know|          No|Don't know|\n",
      "| 32|  male|           NA|            No|      Yes|     Sometimes|       6��25��|       Yes|         Yes|Don't know|\n",
      "| 46|  male|          Yes|           Yes|       No|     Sometimes|        1��5��|       Yes|    Not sure|Don't know|\n",
      "| 36|  male|          Yes|           Yes|       No|            NA|       6��25��|        No|          No|        No|\n",
      "+---+------+-------------+--------------+---------+--------------+--------------+----------+------------+----------+\n",
      "only showing top 20 rows\n",
      "\n"
     ]
    }
   ],
   "source": [
    "replace_df = df.na.replace([\"cis female\", \"f\",\"Female\", \"female\", \"woman\",  \"femake\", \"female \",\"cis-female/femme\", \"female (cis)\", \"femail\"],\"female\",\"Gender\").replace([\"male\", \"m\", \"male-ish\", \"maile\", \"mal\", \"male (cis)\", \"make\", \"male \",\"Male\",\"M\", \"man\",\"msle\", \"mail\", \"malr\",\"cis man\", \"Cis Male\", \"cis male\"],\"male\",\"Gender\").replace([\"trans-female\", \"something kinda male?\", \"queer/she/they\", \"non-binary\",\"nah\", \"all\", \"enby\", \"fluid\", \"genderqueer\", \"androgyne\", \"agender\", \"male leaning androgynous\", \"guy (-ish) ^_^\", \"trans woman\", \"neuter\", \"female (trans)\", \"queer\", \"ostensibly male, unsure what that really means\"],\"trans\",\"Gender\").show()"
   ]
  },
  {
   "cell_type": "code",
   "execution_count": 11,
   "metadata": {},
   "outputs": [
    {
     "data": {
      "text/html": [
       "<div>\n",
       "<style scoped>\n",
       "    .dataframe tbody tr th:only-of-type {\n",
       "        vertical-align: middle;\n",
       "    }\n",
       "\n",
       "    .dataframe tbody tr th {\n",
       "        vertical-align: top;\n",
       "    }\n",
       "\n",
       "    .dataframe thead th {\n",
       "        text-align: right;\n",
       "    }\n",
       "</style>\n",
       "<table border=\"1\" class=\"dataframe\">\n",
       "  <thead>\n",
       "    <tr style=\"text-align: right;\">\n",
       "      <th></th>\n",
       "      <th>Age</th>\n",
       "      <th>Gender</th>\n",
       "      <th>self_employed</th>\n",
       "      <th>family_history</th>\n",
       "      <th>treatment</th>\n",
       "      <th>work_interfere</th>\n",
       "      <th>no_employees</th>\n",
       "      <th>benefits</th>\n",
       "      <th>care_options</th>\n",
       "      <th>seek_help</th>\n",
       "    </tr>\n",
       "  </thead>\n",
       "  <tbody>\n",
       "    <tr>\n",
       "      <th>0</th>\n",
       "      <td>37</td>\n",
       "      <td>Female</td>\n",
       "      <td>NA</td>\n",
       "      <td>No</td>\n",
       "      <td>Yes</td>\n",
       "      <td>Often</td>\n",
       "      <td>6��25��</td>\n",
       "      <td>Yes</td>\n",
       "      <td>Not sure</td>\n",
       "      <td>Yes</td>\n",
       "    </tr>\n",
       "    <tr>\n",
       "      <th>1</th>\n",
       "      <td>44</td>\n",
       "      <td>M</td>\n",
       "      <td>NA</td>\n",
       "      <td>No</td>\n",
       "      <td>No</td>\n",
       "      <td>Rarely</td>\n",
       "      <td>More than 1000</td>\n",
       "      <td>Don't know</td>\n",
       "      <td>No</td>\n",
       "      <td>Don't know</td>\n",
       "    </tr>\n",
       "    <tr>\n",
       "      <th>2</th>\n",
       "      <td>32</td>\n",
       "      <td>Male</td>\n",
       "      <td>NA</td>\n",
       "      <td>No</td>\n",
       "      <td>No</td>\n",
       "      <td>Rarely</td>\n",
       "      <td>6��25��</td>\n",
       "      <td>No</td>\n",
       "      <td>No</td>\n",
       "      <td>No</td>\n",
       "    </tr>\n",
       "    <tr>\n",
       "      <th>3</th>\n",
       "      <td>31</td>\n",
       "      <td>Male</td>\n",
       "      <td>NA</td>\n",
       "      <td>Yes</td>\n",
       "      <td>Yes</td>\n",
       "      <td>Often</td>\n",
       "      <td>26-100</td>\n",
       "      <td>No</td>\n",
       "      <td>Yes</td>\n",
       "      <td>No</td>\n",
       "    </tr>\n",
       "    <tr>\n",
       "      <th>4</th>\n",
       "      <td>31</td>\n",
       "      <td>Male</td>\n",
       "      <td>NA</td>\n",
       "      <td>No</td>\n",
       "      <td>No</td>\n",
       "      <td>Never</td>\n",
       "      <td>100-500</td>\n",
       "      <td>Yes</td>\n",
       "      <td>No</td>\n",
       "      <td>Don't know</td>\n",
       "    </tr>\n",
       "    <tr>\n",
       "      <th>5</th>\n",
       "      <td>33</td>\n",
       "      <td>Male</td>\n",
       "      <td>NA</td>\n",
       "      <td>Yes</td>\n",
       "      <td>No</td>\n",
       "      <td>Sometimes</td>\n",
       "      <td>6��25��</td>\n",
       "      <td>Yes</td>\n",
       "      <td>Not sure</td>\n",
       "      <td>Don't know</td>\n",
       "    </tr>\n",
       "    <tr>\n",
       "      <th>6</th>\n",
       "      <td>35</td>\n",
       "      <td>Female</td>\n",
       "      <td>NA</td>\n",
       "      <td>Yes</td>\n",
       "      <td>Yes</td>\n",
       "      <td>Sometimes</td>\n",
       "      <td>1��5��</td>\n",
       "      <td>No</td>\n",
       "      <td>No</td>\n",
       "      <td>No</td>\n",
       "    </tr>\n",
       "    <tr>\n",
       "      <th>7</th>\n",
       "      <td>39</td>\n",
       "      <td>M</td>\n",
       "      <td>NA</td>\n",
       "      <td>No</td>\n",
       "      <td>No</td>\n",
       "      <td>Never</td>\n",
       "      <td>1��5��</td>\n",
       "      <td>No</td>\n",
       "      <td>Yes</td>\n",
       "      <td>No</td>\n",
       "    </tr>\n",
       "    <tr>\n",
       "      <th>8</th>\n",
       "      <td>42</td>\n",
       "      <td>Female</td>\n",
       "      <td>NA</td>\n",
       "      <td>Yes</td>\n",
       "      <td>Yes</td>\n",
       "      <td>Sometimes</td>\n",
       "      <td>100-500</td>\n",
       "      <td>Yes</td>\n",
       "      <td>Yes</td>\n",
       "      <td>No</td>\n",
       "    </tr>\n",
       "    <tr>\n",
       "      <th>9</th>\n",
       "      <td>23</td>\n",
       "      <td>Male</td>\n",
       "      <td>NA</td>\n",
       "      <td>No</td>\n",
       "      <td>No</td>\n",
       "      <td>Never</td>\n",
       "      <td>26-100</td>\n",
       "      <td>Don't know</td>\n",
       "      <td>No</td>\n",
       "      <td>Don't know</td>\n",
       "    </tr>\n",
       "  </tbody>\n",
       "</table>\n",
       "</div>"
      ],
      "text/plain": [
       "   Age  Gender self_employed family_history treatment work_interfere  \\\n",
       "0   37  Female            NA             No       Yes          Often   \n",
       "1   44       M            NA             No        No         Rarely   \n",
       "2   32    Male            NA             No        No         Rarely   \n",
       "3   31    Male            NA            Yes       Yes          Often   \n",
       "4   31    Male            NA             No        No          Never   \n",
       "5   33    Male            NA            Yes        No      Sometimes   \n",
       "6   35  Female            NA            Yes       Yes      Sometimes   \n",
       "7   39       M            NA             No        No          Never   \n",
       "8   42  Female            NA            Yes       Yes      Sometimes   \n",
       "9   23    Male            NA             No        No          Never   \n",
       "\n",
       "     no_employees    benefits care_options   seek_help  \n",
       "0         6��25��         Yes     Not sure         Yes  \n",
       "1  More than 1000  Don't know           No  Don't know  \n",
       "2         6��25��          No           No          No  \n",
       "3          26-100          No          Yes          No  \n",
       "4         100-500         Yes           No  Don't know  \n",
       "5         6��25��         Yes     Not sure  Don't know  \n",
       "6          1��5��          No           No          No  \n",
       "7          1��5��          No          Yes          No  \n",
       "8         100-500         Yes          Yes          No  \n",
       "9          26-100  Don't know           No  Don't know  "
      ]
     },
     "execution_count": 11,
     "metadata": {},
     "output_type": "execute_result"
    }
   ],
   "source": [
    "import pandas as pd\n",
    "pd.DataFrame(df.take(10), columns=df.columns)"
   ]
  },
  {
   "cell_type": "code",
   "execution_count": 12,
   "metadata": {},
   "outputs": [
    {
     "name": "stdout",
     "output_type": "stream",
     "text": [
      "+---+------+-------------+--------------+---------+--------------+--------------+----------+------------+----------+\n",
      "|Age|Gender|self_employed|family_history|treatment|work_interfere|  no_employees|  benefits|care_options| seek_help|\n",
      "+---+------+-------------+--------------+---------+--------------+--------------+----------+------------+----------+\n",
      "| 37|Female|           NA|            No|      Yes|         Often|       6��25��|       Yes|    Not sure|       Yes|\n",
      "| 44|     M|           NA|            No|       No|        Rarely|More than 1000|Don't know|          No|Don't know|\n",
      "| 32|  Male|           NA|            No|       No|        Rarely|       6��25��|        No|          No|        No|\n",
      "| 31|  Male|           NA|           Yes|      Yes|         Often|        26-100|        No|         Yes|        No|\n",
      "| 31|  Male|           NA|            No|       No|         Never|       100-500|       Yes|          No|Don't know|\n",
      "| 33|  Male|           NA|           Yes|       No|     Sometimes|       6��25��|       Yes|    Not sure|Don't know|\n",
      "| 35|Female|           NA|           Yes|      Yes|     Sometimes|        1��5��|        No|          No|        No|\n",
      "| 39|     M|           NA|            No|       No|         Never|        1��5��|        No|         Yes|        No|\n",
      "| 42|Female|           NA|           Yes|      Yes|     Sometimes|       100-500|       Yes|         Yes|        No|\n",
      "| 23|  Male|           NA|            No|       No|         Never|        26-100|Don't know|          No|Don't know|\n",
      "| 31|  Male|           NA|            No|      Yes|     Sometimes|       6��25��|Don't know|          No|        No|\n",
      "| 29|  male|           NA|            No|       No|         Never|       100-500|Don't know|    Not sure|        No|\n",
      "| 42|female|           NA|           Yes|      Yes|     Sometimes|        26-100|       Yes|         Yes|        No|\n",
      "| 36|  Male|           NA|           Yes|       No|         Never|      500-1000|Don't know|    Not sure|Don't know|\n",
      "| 27|  Male|           NA|            No|       No|         Never|       6��25��|Don't know|    Not sure|Don't know|\n",
      "| 29|female|           NA|           Yes|      Yes|        Rarely|        26-100|       Yes|    Not sure|        No|\n",
      "| 23|  Male|           NA|            No|      Yes|     Sometimes|        26-100|Don't know|          No|Don't know|\n",
      "| 32|  Male|           NA|            No|      Yes|     Sometimes|       6��25��|       Yes|         Yes|Don't know|\n",
      "| 46|  male|          Yes|           Yes|       No|     Sometimes|        1��5��|       Yes|    Not sure|Don't know|\n",
      "| 36|  Male|          Yes|           Yes|       No|            NA|       6��25��|        No|          No|        No|\n",
      "+---+------+-------------+--------------+---------+--------------+--------------+----------+------------+----------+\n",
      "only showing top 20 rows\n",
      "\n",
      "Total data points: 1259\n"
     ]
    }
   ],
   "source": [
    "df = df.na.drop()\n",
    "df.show()\n",
    "print(\"Total data points:\", df.count())"
   ]
  },
  {
   "cell_type": "code",
   "execution_count": 13,
   "metadata": {},
   "outputs": [
    {
     "name": "stdout",
     "output_type": "stream",
     "text": [
      "+---+------+-------------+--------------+---------+--------------+--------------+----------+------------+----------+\n",
      "|Age|Gender|self_employed|family_history|treatment|work_interfere|  no_employees|  benefits|care_options| seek_help|\n",
      "+---+------+-------------+--------------+---------+--------------+--------------+----------+------------+----------+\n",
      "| 37|Female|           NA|            No|      Yes|         Often|       6��25��|       Yes|    Not sure|       Yes|\n",
      "| 44|     M|           NA|            No|       No|        Rarely|More than 1000|Don't know|          No|Don't know|\n",
      "| 32|  Male|           NA|            No|       No|        Rarely|       6��25��|        No|          No|        No|\n",
      "| 31|  Male|           NA|           Yes|      Yes|         Often|        26-100|        No|         Yes|        No|\n",
      "| 31|  Male|           NA|            No|       No|         Never|       100-500|       Yes|          No|Don't know|\n",
      "| 33|  Male|           NA|           Yes|       No|     Sometimes|       6��25��|       Yes|    Not sure|Don't know|\n",
      "| 35|Female|           NA|           Yes|      Yes|     Sometimes|        1��5��|        No|          No|        No|\n",
      "| 39|     M|           NA|            No|       No|         Never|        1��5��|        No|         Yes|        No|\n",
      "| 42|Female|           NA|           Yes|      Yes|     Sometimes|       100-500|       Yes|         Yes|        No|\n",
      "| 23|  Male|           NA|            No|       No|         Never|        26-100|Don't know|          No|Don't know|\n",
      "| 31|  Male|           NA|            No|      Yes|     Sometimes|       6��25��|Don't know|          No|        No|\n",
      "| 29|  male|           NA|            No|       No|         Never|       100-500|Don't know|    Not sure|        No|\n",
      "| 42|female|           NA|           Yes|      Yes|     Sometimes|        26-100|       Yes|         Yes|        No|\n",
      "| 36|  Male|           NA|           Yes|       No|         Never|      500-1000|Don't know|    Not sure|Don't know|\n",
      "| 27|  Male|           NA|            No|       No|         Never|       6��25��|Don't know|    Not sure|Don't know|\n",
      "| 29|female|           NA|           Yes|      Yes|        Rarely|        26-100|       Yes|    Not sure|        No|\n",
      "| 23|  Male|           NA|            No|      Yes|     Sometimes|        26-100|Don't know|          No|Don't know|\n",
      "| 32|  Male|           NA|            No|      Yes|     Sometimes|       6��25��|       Yes|         Yes|Don't know|\n",
      "| 46|  male|          Yes|           Yes|       No|     Sometimes|        1��5��|       Yes|    Not sure|Don't know|\n",
      "| 36|  Male|          Yes|           Yes|       No|            NA|       6��25��|        No|          No|        No|\n",
      "+---+------+-------------+--------------+---------+--------------+--------------+----------+------------+----------+\n",
      "only showing top 20 rows\n",
      "\n",
      "Total data points: 1259\n"
     ]
    }
   ],
   "source": [
    "df = df.na.drop(subset=\"treatment\")\n",
    "df.show()\n",
    "print(\"Total data points:\", df.count())"
   ]
  },
  {
   "cell_type": "code",
   "execution_count": 14,
   "metadata": {},
   "outputs": [
    {
     "name": "stdout",
     "output_type": "stream",
     "text": [
      "+---+------+-------------+--------------+---------+--------------+------------+--------+------------+----------+\n",
      "|Age|Gender|self_employed|family_history|treatment|work_interfere|no_employees|benefits|care_options| seek_help|\n",
      "+---+------+-------------+--------------+---------+--------------+------------+--------+------------+----------+\n",
      "| 46|  male|          Yes|           Yes|       No|     Sometimes|      1��5��|     Yes|    Not sure|Don't know|\n",
      "| 36|  Male|          Yes|           Yes|       No|            NA|     6��25��|      No|          No|        No|\n",
      "| 29|  Male|           No|           Yes|      Yes|     Sometimes|     100-500|     Yes|         Yes|        No|\n",
      "| 31|  male|          Yes|            No|       No|         Never|      1��5��|      No|          No|        No|\n",
      "| 46|  Male|           No|            No|      Yes|         Often|      26-100|     Yes|         Yes|        No|\n",
      "+---+------+-------------+--------------+---------+--------------+------------+--------+------------+----------+\n",
      "only showing top 5 rows\n",
      "\n",
      "Total data points: 1241\n"
     ]
    }
   ],
   "source": [
    "df = df[df.self_employed != 'NA']\n",
    "df.show(5)\n",
    "print(\"Total data points:\", df.count())"
   ]
  },
  {
   "cell_type": "code",
   "execution_count": 15,
   "metadata": {},
   "outputs": [
    {
     "name": "stdout",
     "output_type": "stream",
     "text": [
      "+---+------+-------------+--------------+---------+--------------+------------+--------+------------+----------+\n",
      "|Age|Gender|self_employed|family_history|treatment|work_interfere|no_employees|benefits|care_options| seek_help|\n",
      "+---+------+-------------+--------------+---------+--------------+------------+--------+------------+----------+\n",
      "| 46|  male|          Yes|           Yes|       No|     Sometimes|      1��5��|     Yes|    Not sure|Don't know|\n",
      "| 36|  Male|          Yes|           Yes|       No|            NA|     6��25��|      No|          No|        No|\n",
      "| 29|  Male|           No|           Yes|      Yes|     Sometimes|     100-500|     Yes|         Yes|        No|\n",
      "| 31|  male|          Yes|            No|       No|         Never|      1��5��|      No|          No|        No|\n",
      "| 46|  Male|           No|            No|      Yes|         Often|      26-100|     Yes|         Yes|        No|\n",
      "+---+------+-------------+--------------+---------+--------------+------------+--------+------------+----------+\n",
      "only showing top 5 rows\n",
      "\n",
      "Total data points: 1236\n"
     ]
    }
   ],
   "source": [
    "df = df[(df.Age < 100) & (df.Age >1)]\n",
    "df.show(5)\n",
    "print(\"Total data points:\", df.count())"
   ]
  },
  {
   "cell_type": "code",
   "execution_count": 16,
   "metadata": {},
   "outputs": [],
   "source": [
    "from pyspark.ml.feature import (VectorAssembler,VectorIndexer,OneHotEncoder,StringIndexer)"
   ]
  },
  {
   "cell_type": "code",
   "execution_count": 17,
   "metadata": {},
   "outputs": [],
   "source": [
    "Gender_indexer = StringIndexer(inputCol='Gender',outputCol='GenderIndex')\n",
    "self_employed_indexer = StringIndexer(inputCol='self_employed',outputCol='self_employedIndex')\n",
    "family_history_indexer = StringIndexer(inputCol='family_history',outputCol='family_historyIndex')\n",
    "work_interfere_indexer = StringIndexer(inputCol='work_interfere',outputCol='work_interfereIndex')\n",
    "no_employees_indexer = StringIndexer(inputCol='no_employees',outputCol='no_employeesIndex')\n",
    "benefits_indexer = StringIndexer(inputCol='benefits',outputCol='benefitsIndex')\n",
    "care_options_indexer = StringIndexer(inputCol='care_options',outputCol='care_optionsIndex')\n",
    "seek_help_indexer = StringIndexer(inputCol='seek_help',outputCol='seek_helpIndex')\n",
    "treatment_indexer = StringIndexer(inputCol='treatment',outputCol='label')"
   ]
  },
  {
   "cell_type": "code",
   "execution_count": 18,
   "metadata": {},
   "outputs": [],
   "source": [
    "Gender_encoder = OneHotEncoder(inputCol='GenderIndex',outputCol='GenderVec')\n",
    "self_employed_encoder = OneHotEncoder(inputCol='self_employedIndex',outputCol='self_employedVec')\n",
    "family_history_encoder = OneHotEncoder(inputCol='family_historyIndex',outputCol='family_historyVec')\n",
    "work_interfere_encoder = OneHotEncoder(inputCol='work_interfereIndex',outputCol='work_interfereVec')\n",
    "no_employees_encoder = OneHotEncoder(inputCol='no_employeesIndex',outputCol='no_employeesVec')\n",
    "benefits_encoder = OneHotEncoder(inputCol='benefitsIndex',outputCol='benefitsVec')\n",
    "care_options_encoder = OneHotEncoder(inputCol='care_optionsIndex',outputCol='care_optionsVec')\n",
    "seek_help_encoder = OneHotEncoder(inputCol='seek_helpIndex',outputCol='seek_helpVec')"
   ]
  },
  {
   "cell_type": "code",
   "execution_count": 19,
   "metadata": {},
   "outputs": [],
   "source": [
    "assembler = VectorAssembler(inputCols=['GenderVec','self_employedVec','family_historyVec','work_interfereVec',\n",
    "                                       'no_employeesVec','benefitsVec','care_optionsVec','seek_helpVec',\n",
    "                                       'Age'], outputCol=\"features\")"
   ]
  },
  {
   "cell_type": "code",
   "execution_count": 20,
   "metadata": {},
   "outputs": [],
   "source": [
    "from pyspark.ml import Pipeline\n",
    "pipeline = Pipeline(stages=[Gender_indexer, self_employed_indexer, family_history_indexer, treatment_indexer,\n",
    "                            work_interfere_indexer, no_employees_indexer, benefits_indexer, care_options_indexer, seek_help_indexer,\n",
    "                            Gender_encoder, self_employed_encoder, family_history_encoder,no_employees_encoder, \n",
    "                            work_interfere_encoder, benefits_encoder, care_options_encoder,\n",
    "                            seek_help_encoder, assembler])\n",
    "pipeline_model = pipeline.fit(df)\n",
    "pipe_df = pipeline_model.transform(df)\n",
    "pipe_df = pipe_df.select('label', 'features')"
   ]
  },
  {
   "cell_type": "code",
   "execution_count": 21,
   "metadata": {},
   "outputs": [
    {
     "name": "stdout",
     "output_type": "stream",
     "text": [
      "Training Dataset Count: 865\n",
      "Test Dataset Count: 371\n"
     ]
    }
   ],
   "source": [
    "from pyspark.ml.classification import LogisticRegression\n",
    "train_data, test_data = pipe_df.randomSplit([0.7,0.3])\n",
    "print(\"Training Dataset Count: \" + str(train_data.count()))\n",
    "print(\"Test Dataset Count: \" + str(test_data.count()))\n",
    "lr_model = LogisticRegression(featuresCol='features',labelCol='label')\n",
    "lr_model = lr_model.fit(train_data)\n",
    "results = lr_model.transform(test_data)"
   ]
  },
  {
   "cell_type": "code",
   "execution_count": 22,
   "metadata": {},
   "outputs": [
    {
     "data": {
      "text/plain": [
       "<Figure size 640x480 with 1 Axes>"
      ]
     },
     "metadata": {},
     "output_type": "display_data"
    }
   ],
   "source": [
    "import matplotlib.pyplot as plt\n",
    "import numpy as np\n",
    "beta = np.sort(lr_model.coefficients)\n",
    "plt.plot(beta)\n",
    "plt.ylabel('Beta Coefficients')\n",
    "plt.show()"
   ]
  },
  {
   "cell_type": "code",
   "execution_count": 23,
   "metadata": {},
   "outputs": [
    {
     "data": {
      "image/png": "[encoded data removed]",
      "text/plain": [
       "<Figure size 432x288 with 1 Axes>"
      ]
     },
     "metadata": {},
     "output_type": "display_data"
    },
    {
     "name": "stdout",
     "output_type": "stream",
     "text": [
      "Area Under the Curve: 0.915938420348059\n"
     ]
    }
   ],
   "source": [
    "training_summary = lr_model.summary\n",
    "ROC = training_summary.roc.toPandas()\n",
    "plt.plot(ROC['FPR'],ROC['TPR'])\n",
    "plt.ylabel('True Positive Rate')\n",
    "plt.xlabel('False Positive Rate')\n",
    "plt.title('ROC Curve')\n",
    "plt.show()\n",
    "print('Area Under the Curve: ' + str(training_summary.areaUnderROC))"
   ]
  },
  {
   "cell_type": "code",
   "execution_count": 24,
   "metadata": {},
   "outputs": [
    {
     "data": {
      "image/png": "[encoded data removed]",
      "text/plain": [
       "<Figure size 432x288 with 1 Axes>"
      ]
     },
     "metadata": {},
     "output_type": "display_data"
    }
   ],
   "source": [
    "pr = training_summary.pr.toPandas()\n",
    "plt.plot(pr['recall'],pr['precision'])\n",
    "plt.ylabel('Precision')\n",
    "plt.xlabel('Recall')\n",
    "plt.show()"
   ]
  },
  {
   "cell_type": "code",
   "execution_count": 38,
   "metadata": {},
   "outputs": [
    {
     "name": "stdout",
     "output_type": "stream",
     "text": [
      "Test Area Under ROC: 0.7512836221483167\n"
     ]
    }
   ],
   "source": [
    "from pyspark.ml.classification import DecisionTreeClassifier\n",
    "from pyspark.ml.evaluation import BinaryClassificationEvaluator\n",
    "dt = DecisionTreeClassifier(featuresCol = 'features', labelCol = 'label', maxDepth = 3)\n",
    "dtModel = dt.fit(train_data)\n",
    "predictions = dtModel.transform(test_data)\n",
    "evaluator = BinaryClassificationEvaluator()\n",
    "print(\"Test Area Under ROC: \" + str(evaluator.evaluate(predictions, {evaluator.metricName: \"areaUnderROC\"})))"
   ]
  },
  {
   "cell_type": "code",
   "execution_count": 42,
   "metadata": {},
   "outputs": [
    {
     "name": "stdout",
     "output_type": "stream",
     "text": [
      "Test Area Under ROC: 0.8729068207013246\n"
     ]
    },
    {
     "data": {
      "text/plain": [
       "[Row(Age=46, Gender='male', self_employed='Yes', family_history='Yes', treatment='No', work_interfere='Sometimes', no_employees='1��5��', benefits='Yes', care_options='Not sure', seek_help=\"Don't know\")]"
      ]
     },
     "execution_count": 42,
     "metadata": {},
     "output_type": "execute_result"
    }
   ],
   "source": [
    "from pyspark.ml.classification import RandomForestClassifier\n",
    "rf = RandomForestClassifier(featuresCol = 'features', labelCol = 'label')\n",
    "rfModel = rf.fit(train_data)\n",
    "predictions = rfModel.transform(test_data)\n",
    "evaluator = BinaryClassificationEvaluator()\n",
    "print(\"Test Area Under ROC: \" + str(evaluator.evaluate(predictions, {evaluator.metricName: \"areaUnderROC\"})))\n",
    "rfModel.featureImportance\n",
    "df.take(1)"
   ]
  },
  {
   "cell_type": "code",
   "execution_count": 48,
   "metadata": {},
   "outputs": [
    {
     "name": "stdout",
     "output_type": "stream",
     "text": [
      "+----------+-----+--------------------+\n",
      "|prediction|label|            features|\n",
      "+----------+-----+--------------------+\n",
      "|       0.0|  0.0|(64,[0,46,47,48,5...|\n",
      "|       0.0|  0.0|(64,[0,46,47,48,5...|\n",
      "|       0.0|  0.0|(64,[0,46,47,48,5...|\n",
      "|       0.0|  0.0|(64,[0,46,47,48,5...|\n",
      "|       0.0|  0.0|(64,[0,46,47,48,5...|\n",
      "+----------+-----+--------------------+\n",
      "only showing top 5 rows\n",
      "\n",
      "Test Accuracy = 0.824798\n"
     ]
    }
   ],
   "source": [
    "from pyspark.ml.classification import GBTClassifier\n",
    "from pyspark.ml.evaluation import MulticlassClassificationEvaluator\n",
    "gbt = GBTClassifier(labelCol=\"label\", featuresCol=\"features\", maxIter=10)\n",
    "gbtModel = gbt.fit(train_data)\n",
    "predictions = gbtModel.transform(test_data)\n",
    "predictions.select(\"prediction\", \"label\", \"features\").show(5)\n",
    "evaluator = MulticlassClassificationEvaluator(\n",
    "    labelCol=\"label\", predictionCol=\"prediction\", metricName=\"accuracy\")\n",
    "accuracy = evaluator.evaluate(predictions)\n",
    "print(\"Test Accuracy = %g\" % accuracy)"
   ]
  },
  {
   "cell_type": "code",
   "execution_count": 49,
   "metadata": {},
   "outputs": [
    {
     "data": {
      "text/plain": [
       "SparseVector(64, {0: 0.0172, 1: 0.026, 2: 0.0122, 3: 0.045, 4: 0.0291, 5: 0.0066, 7: 0.0104, 33: 0.0102, 36: 0.0054, 38: 0.028, 40: 0.0051, 46: 0.0113, 47: 0.0171, 48: 0.0293, 49: 0.2233, 50: 0.0958, 51: 0.018, 52: 0.0, 53: 0.0296, 54: 0.0119, 55: 0.0352, 56: 0.0212, 57: 0.0644, 58: 0.0291, 59: 0.0244, 60: 0.017, 61: 0.0035, 62: 0.0133, 63: 0.1601})"
      ]
     },
     "execution_count": 49,
     "metadata": {},
     "output_type": "execute_result"
    }
   ],
   "source": [
    "gbtModel.featureImportances"
   ]
  },
  {
   "cell_type": "code",
   "execution_count": 50,
   "metadata": {},
   "outputs": [
    {
     "data": {
      "text/plain": [
       "[Row(Age=46, Gender='male', self_employed='Yes', family_history='Yes', treatment='No', work_interfere='Sometimes', no_employees='1��5��', benefits='Yes', care_options='Not sure', seek_help=\"Don't know\")]"
      ]
     },
     "execution_count": 50,
     "metadata": {},
     "output_type": "execute_result"
    }
   ],
   "source": [
    "df.take(1)"
   ]
  },
  {
   "cell_type": "code",
   "execution_count": 35,
   "metadata": {},
   "outputs": [
    {
     "name": "stdout",
     "output_type": "stream",
     "text": [
      "Root Mean Squared Error (RMSE) on test data = 0.364958\n"
     ]
    },
    {
     "data": {
      "text/plain": [
       "SparseVector(64, {0: 0.0021, 1: 0.0002, 5: 0.0064, 46: 0.0006, 47: 0.0423, 49: 0.4573, 50: 0.38, 51: 0.0188, 53: 0.0067, 55: 0.0038, 57: 0.0128, 60: 0.0394, 63: 0.0295})"
      ]
     },
     "execution_count": 35,
     "metadata": {},
     "output_type": "execute_result"
    }
   ],
   "source": [
    "from pyspark.ml.regression import DecisionTreeRegressor\n",
    "from pyspark.ml.evaluation import RegressionEvaluator\n",
    "dt = DecisionTreeRegressor(featuresCol ='features', labelCol = 'label')\n",
    "dt_model = dt.fit(train_data)\n",
    "dt_predictions = dt_model.transform(test_data)\n",
    "dt_evaluator = RegressionEvaluator(\n",
    "    labelCol=\"label\", predictionCol=\"prediction\", metricName=\"rmse\")\n",
    "rmse = dt_evaluator.evaluate(dt_predictions)\n",
    "print(\"Root Mean Squared Error (RMSE) on test data = %g\" % rmse)\n",
    "dt_model.featureImportances"
   ]
  },
  {
   "cell_type": "code",
   "execution_count": 36,
   "metadata": {},
   "outputs": [
    {
     "data": {
      "text/plain": [
       "[Row(Age=46, Gender='male', self_employed='Yes', family_history='Yes', treatment='No', work_interfere='Sometimes', no_employees='1��5��', benefits='Yes', care_options='Not sure', seek_help=\"Don't know\")]"
      ]
     },
     "execution_count": 36,
     "metadata": {},
     "output_type": "execute_result"
    }
   ],
   "source": [
    "df.take(1)"
   ]
  },
  {
   "cell_type": "code",
   "execution_count": 52,
   "metadata": {},
   "outputs": [
    {
     "name": "stdout",
     "output_type": "stream",
     "text": [
      "+-------------------+-----+--------------------+\n",
      "|         prediction|label|            features|\n",
      "+-------------------+-----+--------------------+\n",
      "|0.04691696823110311|  0.0|(64,[0,46,47,48,5...|\n",
      "|0.33355650678491555|  0.0|(64,[0,46,47,48,5...|\n",
      "|0.08951839161257537|  0.0|(64,[0,46,47,48,5...|\n",
      "|0.08863973071300596|  0.0|(64,[0,46,47,48,5...|\n",
      "|0.35111764031650966|  0.0|(64,[0,46,47,48,5...|\n",
      "+-------------------+-----+--------------------+\n",
      "only showing top 5 rows\n",
      "\n",
      "Root Mean Squared Error (RMSE) on test data = 0.365097\n"
     ]
    }
   ],
   "source": [
    "from pyspark.ml.regression import GBTRegressor\n",
    "gbt = GBTRegressor(featuresCol = 'features', labelCol = 'label', maxIter=10)\n",
    "gbt_model = gbt.fit(train_data)\n",
    "gbt_predictions = gbt_model.transform(test_data)\n",
    "gbt_predictions.select('prediction', 'label', 'features').show(5)\n",
    "gbt_evaluator = RegressionEvaluator(\n",
    "    labelCol=\"label\", predictionCol=\"prediction\", metricName=\"rmse\")\n",
    "rmse = gbt_evaluator.evaluate(gbt_predictions)\n",
    "print(\"Root Mean Squared Error (RMSE) on test data = %g\" % rmse)"
   ]
  },
  {
   "cell_type": "code",
   "execution_count": 54,
   "metadata": {},
   "outputs": [
    {
     "name": "stdout",
     "output_type": "stream",
     "text": [
      "+-------------------+-----+--------------------+\n",
      "|         prediction|label|            features|\n",
      "+-------------------+-----+--------------------+\n",
      "|0.14396531972279966|  0.0|(64,[0,46,47,48,5...|\n",
      "| 0.2052253720671259|  0.0|(64,[0,46,47,48,5...|\n",
      "|0.14189345140696136|  0.0|(64,[0,46,47,48,5...|\n",
      "|0.15410619875950457|  0.0|(64,[0,46,47,48,5...|\n",
      "|0.32988700744317356|  0.0|(64,[0,46,47,48,5...|\n",
      "+-------------------+-----+--------------------+\n",
      "only showing top 5 rows\n",
      "\n",
      "Root Mean Squared Error (RMSE) on test data = 0.356752\n"
     ]
    }
   ],
   "source": [
    "from pyspark.ml.regression import RandomForestRegressor\n",
    "rf = RandomForestRegressor(featuresCol=\"features\")\n",
    "rf_model = rf.fit(train_data)\n",
    "rf_predictions = rf_model.transform(test_data)\n",
    "rf_predictions.select('prediction', 'label', 'features').show(5)\n",
    "rf_evaluator = RegressionEvaluator(\n",
    "    labelCol=\"label\", predictionCol=\"prediction\", metricName=\"rmse\")\n",
    "rmse = rf_evaluator.evaluate(rf_predictions)\n",
    "print(\"Root Mean Squared Error (RMSE) on test data = %g\" % rmse)"
   ]
  },
  {
   "cell_type": "code",
   "execution_count": null,
   "metadata": {},
   "outputs": [],
   "source": []
  }
 ],
 "metadata": {
  "kernelspec": {
   "display_name": "Python 3",
   "language": "python",
   "name": "python3"
  },
  "language_info": {
   "codemirror_mode": {
    "name": "ipython",
    "version": 3
   },
   "file_extension": ".py",
   "mimetype": "text/x-python",
   "name": "python",
   "nbconvert_exporter": "python",
   "pygments_lexer": "ipython3",
   "version": "3.5.2"
  }
 },
 "nbformat": 4,
 "nbformat_minor": 2
}
